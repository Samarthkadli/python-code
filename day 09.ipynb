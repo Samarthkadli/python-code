{
 "cells": [
  {
   "cell_type": "code",
   "execution_count": 41,
   "id": "07d54260-cbfb-4d85-8558-85491241374e",
   "metadata": {},
   "outputs": [
    {
     "name": "stdin",
     "output_type": "stream",
     "text": [
      "enter the string this is a car\n"
     ]
    },
    {
     "name": "stdout",
     "output_type": "stream",
     "text": [
      "r a c   a   s i   s i h t "
     ]
    }
   ],
   "source": [
    "#reversing a string\n",
    "s=input(\"enter the string\")\n",
    "a=[]\n",
    "for i in s:\n",
    "    a.append(i)\n",
    "\n",
    "while len(a)>0:\n",
    "    #print(len(a))\n",
    "    print(a.pop(),end=\" \")\n"
   ]
  },
  {
   "cell_type": "code",
   "execution_count": 42,
   "id": "b9742457-5732-47b7-85b7-8656defde2f3",
   "metadata": {},
   "outputs": [
    {
     "name": "stdin",
     "output_type": "stream",
     "text": [
      "enter the str this is a car\n"
     ]
    },
    {
     "name": "stdout",
     "output_type": "stream",
     "text": [
      "car a is this "
     ]
    }
   ],
   "source": [
    "#reversing a string word by word\n",
    "s=input(\"enter the str\")\n",
    "a=[]\n",
    "for i in s.split():\n",
    "    a.append(i)\n",
    "\n",
    "while len(a)>0:\n",
    "    #print(len(a))\n",
    "    print(a.pop(),end=\" \")"
   ]
  },
  {
   "cell_type": "markdown",
   "id": "41ab232b-2dc4-4fa9-bd44-06c0e5ffc1d5",
   "metadata": {},
   "source": [
    "if it is a operater push it in to stack\n",
    "if it is alpanum push to postfixlist\n",
    "if ) braket comes pop all opersters upto ( to postfix list"
   ]
  },
  {
   "cell_type": "code",
   "execution_count": 44,
   "id": "b36ae4d0-3567-4e1d-bbee-db899bf9f15a",
   "metadata": {},
   "outputs": [
    {
     "name": "stdin",
     "output_type": "stream",
     "text": [
      " a+b(c-d)*\n"
     ]
    },
    {
     "name": "stdout",
     "output_type": "stream",
     "text": [
      " abcd-*+\n"
     ]
    }
   ],
   "source": [
    "def proc(e):\n",
    "    if e==\"^\":\n",
    "        return 3\n",
    "    elif e==\"*\" or e==\"/\":\n",
    "        return 2\n",
    "    elif e==\"+\" or e==\"-\":\n",
    "        return 1\n",
    "    else:\n",
    "        return -1\n",
    "def asoc(e):\n",
    "    if e=='^':\n",
    "        return R\n",
    "    else:\n",
    "        return L\n",
    "exp=input()\n",
    "s=[]\n",
    "st=\" \"\n",
    "result=\" \"\n",
    "for e in exp:\n",
    "    if e.isalnum()==True:\n",
    "        result+=e\n",
    "    elif e==\"(\":\n",
    "        s.append(e)\n",
    "    elif e==\")\":\n",
    "        while  s[-1]!='(':\n",
    "            result+=s.pop()\n",
    "        s.pop()\n",
    "    else:\n",
    "        while s and (proc(e)<proc(s[-1]) or (proc(e)==proc(s[-1]) and asoc(e)=='L')):\n",
    "            result+=s.pop()\n",
    "        s.append(e)\n",
    "while s:\n",
    "    result+=s.pop()\n",
    "\n",
    "print(result)"
   ]
  },
  {
   "cell_type": "code",
   "execution_count": 47,
   "id": "9bc81746-4058-4c23-bbdf-1afb5ab3a57e",
   "metadata": {},
   "outputs": [
    {
     "name": "stdin",
     "output_type": "stream",
     "text": [
      " a d c r r a a d r d c c\n"
     ]
    },
    {
     "name": "stdout",
     "output_type": "stream",
     "text": [
      "6 ['a', 'd', 'c', 'd', 'r', 'd']\n"
     ]
    }
   ],
   "source": [
    "#arcade game , there is a king who getspeeled by\n",
    "#witch that whenever he eat \n",
    "a=[item for item in input().split()]\n",
    "s=[]\n",
    "for item in a:\n",
    "    if not s:\n",
    "        s.append(item)\n",
    "    elif s[-1]== item:\n",
    "        s.pop()\n",
    "    else:\n",
    "        s.append(item)\n",
    "\n",
    "print(len(s),s)"
   ]
  },
  {
   "cell_type": "code",
   "execution_count": 31,
   "id": "ac461024-8806-404f-a486-c97a775d2e84",
   "metadata": {},
   "outputs": [
    {
     "name": "stdin",
     "output_type": "stream",
     "text": [
      " }[\n"
     ]
    },
    {
     "name": "stdout",
     "output_type": "stream",
     "text": [
      "in-valid\n"
     ]
    }
   ],
   "source": [
    "s=[]\n",
    "exp=input()\n",
    "for e in exp:\n",
    "    #print(e)\n",
    "    if not s and (e==')'or e==']' or e=='}'):\n",
    "        s.append(e)        \n",
    "        break;\n",
    "    elif e=='(' or e=='['or e=='{':\n",
    "        s.append(e)\n",
    "    elif (e==')' and s[-1]=='(')or (e==']' and s[-1]=='[')or (e=='}'and s[-1]=='{'):\n",
    "        s.pop()\n",
    "        \n",
    "    else:\n",
    "        continue\n",
    "if not s:\n",
    "    print(\"it is valid\")\n",
    "else:\n",
    "    print(\"in-valid\")"
   ]
  },
  {
   "cell_type": "code",
   "execution_count": 33,
   "id": "839ca1ff-aae8-4bc5-9db4-8325e63828ec",
   "metadata": {},
   "outputs": [
    {
     "name": "stdout",
     "output_type": "stream",
     "text": [
      "5\n",
      "4\n",
      "3\n",
      "2\n",
      "1\n"
     ]
    }
   ],
   "source": [
    "def fun(x):\n",
    "    if x==0:\n",
    "        return\n",
    "    print(x)\n",
    "    return fun(x-1)\n",
    "fun(5)"
   ]
  }
 ],
 "metadata": {
  "kernelspec": {
   "display_name": "Python 3 (ipykernel)",
   "language": "python",
   "name": "python3"
  },
  "language_info": {
   "codemirror_mode": {
    "name": "ipython",
    "version": 3
   },
   "file_extension": ".py",
   "mimetype": "text/x-python",
   "name": "python",
   "nbconvert_exporter": "python",
   "pygments_lexer": "ipython3",
   "version": "3.12.3"
  }
 },
 "nbformat": 4,
 "nbformat_minor": 5
}
