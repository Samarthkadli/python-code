{
 "cells": [
  {
   "cell_type": "code",
   "execution_count": 27,
   "id": "248928ea-0821-4ae6-b0a4-f7162e41b884",
   "metadata": {},
   "outputs": [
    {
     "name": "stdin",
     "output_type": "stream",
     "text": [
      "enter the number of fruits 3\n",
      "enter the names of fruits:\n",
      " apple\n",
      " mango\n",
      " orange\n",
      " \n"
     ]
    },
    {
     "name": "stdout",
     "output_type": "stream",
     "text": [
      "mango\n",
      "orange\n",
      "\n",
      "\n",
      "\n",
      "\n"
     ]
    },
    {
     "name": "stdin",
     "output_type": "stream",
     "text": [
      "enter the name wantes to replace \n",
      "enter the new name \n"
     ]
    },
    {
     "name": "stdout",
     "output_type": "stream",
     "text": [
      "mango\n",
      "orange\n",
      "\n",
      "\n"
     ]
    }
   ],
   "source": [
    "import os\n",
    "n=int(input(\"enter the number of fruits\"))\n",
    "input(\"enter the names of fruits:\\n\")\n",
    "with open(\"fruit1.txt\",'w') as f:\n",
    "    for i in range(0,n):\n",
    "       f.write(input())\n",
    "       f.write(\"\\n\")\n",
    "   \n",
    "\n",
    "with open(\"fruit1.txt\",'r+') as f:\n",
    "     a=f.read()\n",
    "     print(a)\n",
    "     print(\"\\n\")\n",
    "     old=input(\"enter the name wantes to replace\")\n",
    "     new=input(\"enter the new name\")\n",
    "     y=a.replace(old,new)\n",
    "     print(y)"
   ]
  },
  {
   "cell_type": "code",
   "execution_count": 25,
   "id": "3948e74d-76d3-4ec1-be5c-f4d2ee2a54eb",
   "metadata": {},
   "outputs": [
    {
     "name": "stdout",
     "output_type": "stream",
     "text": [
      "hello hiimy self programer\n",
      "my self programer\n",
      "my self programer\n"
     ]
    }
   ],
   "source": [
    "import os\n",
    "try:\n",
    "    with open(\"sample.txt\",\"r+\") as f:\n",
    "         a=f.read()\n",
    "         print(a)\n",
    "         f.write(\"\\nmy self programer\")\n",
    "         pass\n",
    "except FileNotFoundError:\n",
    "    print(\"not found\")"
   ]
  },
  {
   "cell_type": "code",
   "execution_count": null,
   "id": "62cd8073-b724-41b5-a1be-f232634017d8",
   "metadata": {},
   "outputs": [],
   "source": [
    "#it is a blueprint\n",
    "#hiding the data members and members functions from object"
   ]
  },
  {
   "cell_type": "code",
   "execution_count": 36,
   "id": "bc1603f2-beb8-4a87-aae0-2824e735ac89",
   "metadata": {},
   "outputs": [
    {
     "name": "stdout",
     "output_type": "stream",
     "text": [
      "0\n",
      "20\n"
     ]
    }
   ],
   "source": [
    "class laptop:\n",
    "    a=0\n",
    "    def config(self):\n",
    "        print(\"this laptop  4gb\")\n",
    "    def __init__(self,value):\n",
    "        self.b=value\n",
    "hp=laptop(20)\n",
    "print(hp.a)\n",
    "print(hp.b)\n"
   ]
  },
  {
   "cell_type": "code",
   "execution_count": 49,
   "id": "db9c5faf-c379-4968-9151-1fa89c08ba37",
   "metadata": {},
   "outputs": [
    {
     "name": "stdout",
     "output_type": "stream",
     "text": [
      "configuration of a laptop:\n",
      "processor i3\n",
      "ram 4\n",
      "storage 512\n"
     ]
    }
   ],
   "source": [
    "class laptop:\n",
    "     def __init__(self,value1,value2,value3):\n",
    "         self.processor=value1\n",
    "         self.ram=value2\n",
    "         self.storage=value3\n",
    "\n",
    "     def config(self):\n",
    "         print(\"configuration of a laptop:\")\n",
    "         print(\"processor\",self.processor)\n",
    "         print(\"ram\",self.ram)\n",
    "         print(\"storage\",self.storage)\n",
    "if __name__==\"__main__\":\n",
    "    hp=laptop(\"i3\",4,512)\n",
    "    hp.config()"
   ]
  },
  {
   "cell_type": "code",
   "execution_count": 63,
   "id": "256a6651-425c-4d7f-b09d-b1db4a50405c",
   "metadata": {},
   "outputs": [
    {
     "name": "stdout",
     "output_type": "stream",
     "text": [
      "student marks with average\n",
      "marks of 1st subj 30\n",
      "marks of 2 subj 50\n",
      "marks of 3 subj 60\n",
      "marks of 4 subj 40\n",
      "marks of 5 subj 90\n",
      "average= 54.0\n"
     ]
    }
   ],
   "source": [
    "class student:\n",
    "     def __init__(self,value1,value2,value3,value4,value5):\n",
    "         self.m1=value1\n",
    "         self.m2=value2\n",
    "         self.m3=value3\n",
    "         self.m4=value4\n",
    "         self.m5=value5\n",
    "\n",
    "     def marksheet(self):\n",
    "        print(\"student marks with average\")\n",
    "        print(\"marks of 1st subj\",self.m1)\n",
    "        print(\"marks of 2 subj\",self.m2)\n",
    "        print(\"marks of 3 subj\",self.m3)\n",
    "        print(\"marks of 4 subj\",self.m4)\n",
    "        print(\"marks of 5 subj\",self.m5)\n",
    "     def avg(self):\n",
    "        print(\"average=\",(self.m1+self.m2+self.m3+self.m4+self.m5)/5)\n",
    "        \n",
    "if __name__==\"__main__\":\n",
    "    s1=student(30,50,60,40,90)\n",
    "    s1.marksheet()\n",
    "    s1.avg()"
   ]
  },
  {
   "cell_type": "code",
   "execution_count": 24,
   "id": "39245a30-e8e2-4814-8629-cc5431d75d9f",
   "metadata": {},
   "outputs": [
    {
     "name": "stdout",
     "output_type": "stream",
     "text": [
      "1\n",
      "2\n",
      "3\n",
      "public var 1\n",
      "protected var 2\n"
     ]
    },
    {
     "ename": "AttributeError",
     "evalue": "'demo' object has no attribute '__z'",
     "output_type": "error",
     "traceback": [
      "\u001b[1;31m---------------------------------------------------------------------------\u001b[0m",
      "\u001b[1;31mAttributeError\u001b[0m                            Traceback (most recent call last)",
      "Cell \u001b[1;32mIn[24], line 24\u001b[0m\n\u001b[0;32m     22\u001b[0m \u001b[38;5;28mprint\u001b[39m(\u001b[38;5;124m\"\u001b[39m\u001b[38;5;124mpublic var\u001b[39m\u001b[38;5;124m\"\u001b[39m,ob1\u001b[38;5;241m.\u001b[39mx)\n\u001b[0;32m     23\u001b[0m \u001b[38;5;28mprint\u001b[39m(\u001b[38;5;124m\"\u001b[39m\u001b[38;5;124mprotected var\u001b[39m\u001b[38;5;124m\"\u001b[39m,ob1\u001b[38;5;241m.\u001b[39m_y)\n\u001b[1;32m---> 24\u001b[0m \u001b[38;5;28mprint\u001b[39m(\u001b[38;5;124m\"\u001b[39m\u001b[38;5;124mprivate var\u001b[39m\u001b[38;5;124m\"\u001b[39m,\u001b[43mob1\u001b[49m\u001b[38;5;241;43m.\u001b[39;49m\u001b[43m__z\u001b[49m)\n",
      "\u001b[1;31mAttributeError\u001b[0m: 'demo' object has no attribute '__z'"
     ]
    }
   ],
   "source": [
    "#Acess modifiers\n",
    "#public normal\n",
    "#private __\n",
    "#protected _\n",
    "\n",
    "class demo:\n",
    "    def __init__(self,a,b,c):\n",
    "        self.x=a\n",
    "        self._y=b\n",
    "        self.__z=c\n",
    "\n",
    "    def output_z(self):\n",
    "        print(self.__z)\n",
    "    def output_x(self):\n",
    "        print(self.x)\n",
    "    def output_y(self):\n",
    "        print(self._y)\n",
    "ob1=demo(1,2,3)\n",
    "ob1.output_x()\n",
    "ob1.output_y()\n",
    "ob1.output_z()\n",
    "print(\"public var\",ob1.x)\n",
    "print(\"protected var\",ob1._y)\n",
    "print(\"private var\",ob1.__z)\n",
    "    "
   ]
  },
  {
   "cell_type": "code",
   "execution_count": 3,
   "id": "2cea44ea-27da-4994-a543-e9690224bea7",
   "metadata": {},
   "outputs": [
    {
     "name": "stdout",
     "output_type": "stream",
     "text": [
      "this is fun1\n",
      "this is fun1\n"
     ]
    }
   ],
   "source": [
    "class a:\n",
    "    def fun1(self):\n",
    "        print(\"this is fun1\")\n",
    "    def fun2(self):\n",
    "        print(\"this is fun2\")\n",
    "class b(a):\n",
    "    def fun3(self):\n",
    "        print(\"this is fun3\")\n",
    "        \n",
    "    def fun4(self):\n",
    "        print(\"this is fun4\")\n",
    "\n",
    "class c(a):\n",
    "    def fun4(self):\n",
    "        print(\"this is fun3\")\n",
    "        \n",
    "    def fun5(self):\n",
    "        print(\"this is fun4\")\n",
    "if __name__==\"__main__\":\n",
    "    ob1=a()\n",
    "    ob2=b()\n",
    "    ob3=c()\n",
    "    ob1.fun1()\n",
    "    ob3.fun1()"
   ]
  },
  {
   "cell_type": "code",
   "execution_count": 35,
   "id": "e9bae8bb-217a-4d0a-8b88-1a815df01b1b",
   "metadata": {},
   "outputs": [
    {
     "name": "stdout",
     "output_type": "stream",
     "text": [
      "1 2\n",
      "constructor of class b\n",
      "constructor of class a with 2 3\n",
      "printing of class a\n",
      "printing of class b\n"
     ]
    }
   ],
   "source": [
    "class a:\n",
    "     def __init__(self,a,b):\n",
    "         self.x=a\n",
    "         self.y=b\n",
    "         print(self.x,self.y)\n",
    "     def abc(self,a,b):\n",
    "        print(\"constructor of class a with\",a,b)\n",
    "     def show(self):\n",
    "        print(\"printing of class a\")\n",
    "class b(a):\n",
    "    def __init__(self):\n",
    "        print(\"constructor of class b\")\n",
    "    def show(self):\n",
    "          print(\"printing of class b\")\n",
    "    \n",
    "class c(b,a):\n",
    "     def __init__(self):\n",
    "        print(\"constructor of class c\")\n",
    "if __name__==\"__main__\":\n",
    "    ob=a(1,2)\n",
    "    ob1=b()\n",
    "    #ob.abc(2)\n",
    "    ob.abc(2,3)\n",
    "    ob.show()\n",
    "    ob1.show()"
   ]
  },
  {
   "cell_type": "code",
   "execution_count": 51,
   "id": "f3c1cb6c-3fa4-4899-b147-181914620905",
   "metadata": {},
   "outputs": [
    {
     "name": "stdout",
     "output_type": "stream",
     "text": [
      "--------profesional laptop having-------\n",
      "processor i5\n",
      "ram 4\n",
      "storage 512\n",
      "battry Backup: 5hrs\n",
      "-------------gaming laptop having----------------\n",
      "processor i5\n",
      "ram 4\n",
      "storage 512\n",
      "graphic: 7th\n"
     ]
    }
   ],
   "source": [
    "class laptop:\n",
    "    def __init__(self,a,b,c):\n",
    "        self.processor=a\n",
    "        self.RAM=b\n",
    "        self.storage=c\n",
    "    def show(self):\n",
    "         print(\"processor\",self.processor)\n",
    "         print(\"ram\",self.RAM)\n",
    "         print(\"storage\",self.storage)\n",
    "    \n",
    "\n",
    "class plaptop(laptop):\n",
    "    def __init__(self,B,a,b,c):\n",
    "        self.batrybackup=B\n",
    "        super().__init__(a,b,c)\n",
    "    def show(self):\n",
    "        super().show()\n",
    "        print(\"battry Backup:\",self.batrybackup)\n",
    "\n",
    "\n",
    "class glaptop(laptop):\n",
    "    def __init__(self,g,a,b,c):\n",
    "        self.grafic=g\n",
    "        super().__init__(a,b,c)\n",
    "    def show(self):\n",
    "        super().show()\n",
    "        print(\"graphic:\",self.grafic)\n",
    "\n",
    "if __name__==\"__main__\":\n",
    "    pro1=plaptop(\"5hrs\",\"i5\",4,512)\n",
    "    print(\"--------profesional laptop having-------\")\n",
    "    pro1.show()\n",
    "    print(\"-------------gaming laptop having----------------\")\n",
    "    gl1=glaptop(\"7th\",\"i5\",\"4\",\"512\")\n",
    "    gl1.show()"
   ]
  },
  {
   "cell_type": "code",
   "execution_count": null,
   "id": "6bf3ccc8-54db-416c-9993-6dbeaed7f44a",
   "metadata": {},
   "outputs": [],
   "source": [
    "\n",
    "    "
   ]
  },
  {
   "cell_type": "code",
   "execution_count": 55,
   "id": "62d1d4b7-f605-4195-a338-accb458f8cdf",
   "metadata": {},
   "outputs": [
    {
     "name": "stdout",
     "output_type": "stream",
     "text": [
      "Ticket booked Fare Price will be:  1650\n"
     ]
    }
   ],
   "source": [
    "class ticket:\n",
    "   \n",
    "    def _init_(self,D):\n",
    "        self.distance = int(D)\n",
    "        self.farePrice = None\n",
    "\n",
    "class gen(ticket):\n",
    "    def __init__(self,D):\n",
    "        super().__init__(D)\n",
    "    def print_ticket(self):\n",
    "        self.farePrice=50+(self.distance*2)\n",
    "        return self.farePrice\n",
    "        \n",
    "class slp(gen):\n",
    "    def __init__(self,D):\n",
    "        super()._init_(D)\n",
    "\n",
    "    def print_ticket(self):\n",
    "        self.farePrice=super().print_ticket()+(2*self.distance)\n",
    "        return self.farePrice\n",
    "\n",
    "class AC(slp):\n",
    "    def __init__(self,D):\n",
    "        super()._init_(D)\n",
    "    def print_ticket(self):\n",
    "        self.farePrice=super().print_ticket()+(4*self.distance)\n",
    "        return self.farePrice\n",
    "\n",
    "class FC(AC):\n",
    "    def __init__(self,D):\n",
    "        super().__init__(D)\n",
    "    def print_ticket(self):\n",
    "        self.farePrice=super().print_ticket()+(5*self.distance)\n",
    "        return self.farePrice\n",
    "\n",
    "\n",
    "jur =AC(200)\n",
    "print(\"Ticket booked Fare Price will be: \",jur.print_ticket())"
   ]
  },
  {
   "cell_type": "code",
   "execution_count": null,
   "id": "098cd259-52ef-44f5-9789-80817077271b",
   "metadata": {},
   "outputs": [],
   "source": []
  }
 ],
 "metadata": {
  "kernelspec": {
   "display_name": "Python 3 (ipykernel)",
   "language": "python",
   "name": "python3"
  },
  "language_info": {
   "codemirror_mode": {
    "name": "ipython",
    "version": 3
   },
   "file_extension": ".py",
   "mimetype": "text/x-python",
   "name": "python",
   "nbconvert_exporter": "python",
   "pygments_lexer": "ipython3",
   "version": "3.12.3"
  }
 },
 "nbformat": 4,
 "nbformat_minor": 5
}
