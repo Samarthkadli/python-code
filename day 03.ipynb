{
 "cells": [
  {
   "cell_type": "code",
   "execution_count": 2,
   "id": "136b36e5-7515-4188-90b0-d089f2be90dd",
   "metadata": {},
   "outputs": [
    {
     "name": "stdout",
     "output_type": "stream",
     "text": [
      "[1, 2, 3.5, 4, 'sam']\n",
      "<class 'int'>\n",
      "2\n",
      "<class 'int'>\n",
      "sam\n",
      "<class 'str'>\n",
      "a\n",
      "<class 'str'>\n"
     ]
    }
   ],
   "source": [
    "a=[1,2,3.5,4,\"sam\"]\n",
    "print(a)\n",
    "print(type(a[3]))\n",
    "print(a[1])\n",
    "print(type(a[1]))\n",
    "print(a[4])\n",
    "print(type(a[4]))\n",
    "print(a[4][1])\n",
    "print(type(a[4][1]))"
   ]
  },
  {
   "cell_type": "code",
   "execution_count": 7,
   "id": "1ddbef28-6308-4d3d-ab76-3206ea403939",
   "metadata": {},
   "outputs": [
    {
     "name": "stdout",
     "output_type": "stream",
     "text": [
      "1\n",
      "2.3\n",
      "sam\n"
     ]
    },
    {
     "data": {
      "text/plain": [
       "3"
      ]
     },
     "execution_count": 7,
     "metadata": {},
     "output_type": "execute_result"
    }
   ],
   "source": [
    "a=[1,2.3,\"sam\"]\n",
    "for i in range(0,3):\n",
    "    print(a[i])\n",
    "len(a)"
   ]
  },
  {
   "cell_type": "code",
   "execution_count": 27,
   "id": "593860e7-0d8c-4f83-a08d-997b9f90690e",
   "metadata": {},
   "outputs": [
    {
     "name": "stdout",
     "output_type": "stream",
     "text": [
      "[1, 2, 3, 4, 5]\n",
      "3\n",
      "[1, 2, 4, 5]\n",
      "[1, 2, 4, 5, 0]\n",
      "1\n",
      "1\n",
      "[1, 2, 9, 4, 5, 0]\n",
      "[1, 2, 9, 5, 0]\n",
      "[0, 1, 2, 5, 9]\n",
      "[9, 5, 2, 1, 0]\n",
      "[9, 5, 2, 1, 0, 1, 2, 3, 4, 5]\n"
     ]
    }
   ],
   "source": [
    "a=[1,2,3,4,5]\n",
    "b=a.copy()\n",
    "print(b)\n",
    "\n",
    "c=b.pop(2)\n",
    "print(c)\n",
    "\n",
    "print(b)\n",
    "b.append(0)\n",
    "print(b)\n",
    "\n",
    "print(b.index(2))\n",
    "\n",
    "print(b.count(1))\n",
    "\n",
    "b.insert(2,9)\n",
    "print(b)\n",
    "\n",
    "b.remove(4)\n",
    "print(b)\n",
    "\n",
    "\n",
    "b.sort()\n",
    "print(b)\n",
    "\n",
    "\n",
    "b.sort(reverse=True)\n",
    "print(b)\n",
    "\n",
    "\n",
    "b.extend(a)\n",
    "print(b)"
   ]
  },
  {
   "cell_type": "code",
   "execution_count": 28,
   "id": "239bf28b-325d-4f02-8679-48e277095954",
   "metadata": {},
   "outputs": [
    {
     "name": "stdout",
     "output_type": "stream",
     "text": [
      "9\n",
      "5\n",
      "2\n",
      "1\n",
      "0\n",
      "1\n",
      "2\n",
      "3\n",
      "4\n",
      "5\n"
     ]
    }
   ],
   "source": [
    "#foreach loop\n",
    "a=[9, 5, 2, 1, 0, 1, 2, 3, 4, 5]\n",
    "for x in a:\n",
    "    print(x)"
   ]
  },
  {
   "cell_type": "code",
   "execution_count": 41,
   "id": "23a2aa6b-24b5-4883-8ded-e0a35fb65138",
   "metadata": {},
   "outputs": [
    {
     "name": "stdin",
     "output_type": "stream",
     "text": [
      "enter the limit: 3\n",
      " 1\n",
      " 2\n",
      " 3\n"
     ]
    },
    {
     "name": "stdout",
     "output_type": "stream",
     "text": [
      "['1', '2', '3']\n"
     ]
    }
   ],
   "source": [
    "#dynamiliiy allocating lists or \n",
    "x=[]\n",
    "n=int(input(\"enter the limit:\"))\n",
    "for i in range(0,n):\n",
    "    a=input()\n",
    "    x.append(a)\n",
    "print(x)"
   ]
  },
  {
   "cell_type": "code",
   "execution_count": 37,
   "id": "0478e059-213d-43b6-98c9-25896c7d2369",
   "metadata": {},
   "outputs": [
    {
     "name": "stdin",
     "output_type": "stream",
     "text": [
      "enter the list 1 2 3 4 5 \n"
     ]
    },
    {
     "name": "stdout",
     "output_type": "stream",
     "text": [
      "['1', '2', '3', '4', '5']\n"
     ]
    }
   ],
   "source": [
    "l=[item for item in(input(\"enter the list\").split())]\n",
    "print(l)"
   ]
  },
  {
   "cell_type": "code",
   "execution_count": 45,
   "id": "f14e661f-e722-42c5-9192-e23d12cba641",
   "metadata": {},
   "outputs": [
    {
     "name": "stdout",
     "output_type": "stream",
     "text": [
      "(1, 2, 3.4, 5.6, 7, 'sam')\n",
      "[1, 2, 3.4, 5.6, 7, 'sam']\n",
      "(1, 2, 3.4, 5.6, 7, 'sam')\n"
     ]
    }
   ],
   "source": [
    "#tuples\n",
    "a=(1,2,3.4,5.6,7,\"sam\")\n",
    "print(a)\n",
    "x=list(a)\n",
    "print(x)\n",
    "b=tuple(x)\n",
    "print(b)\n"
   ]
  },
  {
   "cell_type": "code",
   "execution_count": 48,
   "id": "33860c2f-1b2c-485c-8d78-f005eaf46707",
   "metadata": {},
   "outputs": [
    {
     "name": "stdout",
     "output_type": "stream",
     "text": [
      "[5, 4, 3, 2, 1]\n"
     ]
    }
   ],
   "source": [
    "b=[]\n",
    "a=[1,2,3,4,5]\n",
    "for i in a:\n",
    "    b.append(a[-i])\n",
    "print(b)"
   ]
  },
  {
   "cell_type": "code",
   "execution_count": 55,
   "id": "64cb1a90-c191-4e4a-8ac9-5966f1a99d82",
   "metadata": {},
   "outputs": [
    {
     "name": "stdout",
     "output_type": "stream",
     "text": [
      "5 4 3 2 1 "
     ]
    }
   ],
   "source": [
    "a=[1,2,3,4,5]\n",
    "for i in a:\n",
    "    print(a[-i],end=\" \")\n"
   ]
  },
  {
   "cell_type": "code",
   "execution_count": 53,
   "id": "27b95060-f970-4407-8a22-988830430cc9",
   "metadata": {},
   "outputs": [
    {
     "name": "stdout",
     "output_type": "stream",
     "text": [
      "5 4 3 2 1 "
     ]
    }
   ],
   "source": [
    "a=[1,2,3,4,5]\n",
    "for i in range(-1,-1*(len(a)+1),-1):\n",
    "    print(a[i],end=\" \")\n"
   ]
  },
  {
   "cell_type": "code",
   "execution_count": 65,
   "id": "28f15ae7-0ed3-4985-94a5-4e18f8fde61c",
   "metadata": {},
   "outputs": [
    {
     "name": "stdout",
     "output_type": "stream",
     "text": [
      "{1: 'tanu', 2: 'sam'}\n",
      "{1: 'raj', 2: 'sam'}\n",
      "sam\n",
      "dict_keys([1, 2])\n",
      "dict_values(['raj', 'sam'])\n",
      "dict_items([(1, 'raj'), (2, 'sam')])\n",
      "sam\n"
     ]
    }
   ],
   "source": [
    "#dictionary is a set of key and value \n",
    "d={1:\"tanu\",2:\"sam\"}\n",
    "print(d)\n",
    "\n",
    "d={1:\"tanu\",2:\"sam\",1:\"raj\"}\n",
    "print(d)\n",
    "\n",
    "\n",
    "print(d[2])\n",
    "\n",
    "print(d.keys())\n",
    "print(d.values())\n",
    "print(d.items())\n",
    "print(d.get(2))\n"
   ]
  },
  {
   "cell_type": "code",
   "execution_count": 3,
   "id": "0b6fa7ba-72e9-4cec-9881-443c32251ae3",
   "metadata": {},
   "outputs": [],
   "source": [
    "#wap to take key and value as user input user and add in into in dist if key is not prestent in dist other wise print key alrady\n",
    "#exixts and also print its value\n",
    "\n"
   ]
  },
  {
   "cell_type": "code",
   "execution_count": 8,
   "id": "ac0102ff-4a69-422a-a0c7-fb6148771fd3",
   "metadata": {},
   "outputs": [
    {
     "name": "stdin",
     "output_type": "stream",
     "text": [
      " 4\n",
      " 5\n"
     ]
    },
    {
     "name": "stdout",
     "output_type": "stream",
     "text": [
      "divison susessfull\n",
      "0.8\n",
      "error handeled\n",
      "we have recived the result as: 0.8\n"
     ]
    }
   ],
   "source": [
    "#exception handling\n",
    "a=int(input())\n",
    "b=int(input())\n",
    "try:\n",
    "    c=a/b\n",
    "except:\n",
    "    print(\"we cant divide by zero\")\n",
    "    c=0\n",
    "else:\n",
    "    print(\"divison susessfull\")\n",
    "    print(c)\n",
    "finally:\n",
    "    print(\"error handeled\")\n",
    "print(\"we have recived the result as:\",c)"
   ]
  },
  {
   "cell_type": "code",
   "execution_count": 16,
   "id": "9804b32c-e754-42b7-b3ca-535a579f0c29",
   "metadata": {},
   "outputs": [
    {
     "name": "stdin",
     "output_type": "stream",
     "text": [
      "Enter the key 11\n"
     ]
    },
    {
     "name": "stdout",
     "output_type": "stream",
     "text": [
      "no value and key found\n"
     ]
    }
   ],
   "source": [
    "a={1:\"sam\",2:\"verru\",3:\"santuu\",3:\"kkk\",4:\"sam\",5:\"verru\",6:\"santuu\",7:\"kkk\",8:\"sam\",9:\"verru\",10:\"santuu\"}\n",
    "i=int(input(\"Enter the key\"))\n",
    "try:\n",
    "    print(a[i])\n",
    "except:\n",
    "    print(\"no value and key found\")\n"
   ]
  },
  {
   "cell_type": "code",
   "execution_count": 22,
   "id": "8ef1034f-578c-4b19-bd6e-ea4262989ec6",
   "metadata": {},
   "outputs": [
    {
     "name": "stdin",
     "output_type": "stream",
     "text": [
      " 2\n",
      " two\n"
     ]
    },
    {
     "name": "stdout",
     "output_type": "stream",
     "text": [
      "value unable to convert\n",
      "code exection done\n"
     ]
    }
   ],
   "source": [
    "try:\n",
    "    a=input()\n",
    "    b=input()\n",
    "    c=int(a)/int(b)\n",
    "   # x=\"hello\"/3\n",
    "except ValueError:\n",
    "    print(\"value unable to convert\")\n",
    "\n",
    "except ZeroDivisonError:\n",
    "    print(\"can't divide by 0\")\n",
    "\n",
    "except:\n",
    "    print(\"some unknown Error found\")\n",
    "else:\n",
    "    print(\"NO ERROR\")\n",
    "finally:\n",
    "    print(\"code exection done\")\n",
    "\n"
   ]
  }
 ],
 "metadata": {
  "kernelspec": {
   "display_name": "Python 3 (ipykernel)",
   "language": "python",
   "name": "python3"
  },
  "language_info": {
   "codemirror_mode": {
    "name": "ipython",
    "version": 3
   },
   "file_extension": ".py",
   "mimetype": "text/x-python",
   "name": "python",
   "nbconvert_exporter": "python",
   "pygments_lexer": "ipython3",
   "version": "3.12.3"
  }
 },
 "nbformat": 4,
 "nbformat_minor": 5
}
