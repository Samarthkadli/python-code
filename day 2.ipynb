{
 "cells": [
  {
   "cell_type": "code",
   "execution_count": 5,
   "id": "191abdcc-aa09-4846-b0b3-f8c39272b333",
   "metadata": {},
   "outputs": [
    {
     "name": "stdin",
     "output_type": "stream",
     "text": [
      "enter the name: sam\n",
      "enter the age: 21\n"
     ]
    },
    {
     "name": "stdout",
     "output_type": "stream",
     "text": [
      "sam\n",
      "21\n",
      "you are elegible\n"
     ]
    }
   ],
   "source": [
    "name=input(\"enter the name:\")\n",
    "age=int(input(\"enter the age:\"))\n",
    "if age>=18:\n",
    "        print(name)\n",
    "        print(age)\n",
    "        print(\"you are elegible\")\n",
    "else:\n",
    "    print(name)\n",
    "    print(\"you are not elegible\")"
   ]
  },
  {
   "cell_type": "code",
   "execution_count": 12,
   "id": "67074907-6bea-4e1a-9ddd-51eaac91d8de",
   "metadata": {},
   "outputs": [
    {
     "name": "stdin",
     "output_type": "stream",
     "text": [
      "enter the number of slotes required 45\n"
     ]
    },
    {
     "name": "stdout",
     "output_type": "stream",
     "text": [
      "slots are booked\n",
      "0\n"
     ]
    }
   ],
   "source": [
    "max=45\n",
    "slots=int(input(\"enter the number of slotes required\"))\n",
    "if slots<=max:\n",
    "    print(\"slots are booked\")\n",
    "    max=max-slots\n",
    "    print(max)\n",
    "else:\n",
    "    print(\"no slots are there\")\n",
    "    "
   ]
  },
  {
   "cell_type": "code",
   "execution_count": 10,
   "id": "acc26c0d-93c0-4e28-a43f-608c4e576d56",
   "metadata": {},
   "outputs": [
    {
     "name": "stdin",
     "output_type": "stream",
     "text": [
      " 2\n",
      " 4\n",
      " 7\n"
     ]
    },
    {
     "name": "stdout",
     "output_type": "stream",
     "text": [
      "c is greter\n"
     ]
    }
   ],
   "source": [
    "a=int(input())\n",
    "b=int(input())\n",
    "c=int(input())\n",
    "if a>b:\n",
    "    if a>c:\n",
    "        print(\"a is greter\")\n",
    "    else:\n",
    "        print(\"c is greter\")\n",
    "\n",
    "else:\n",
    "    if b>c:\n",
    "        print(\"b is greter\")\n",
    "    else:\n",
    "        print(\"c is greter\")"
   ]
  },
  {
   "cell_type": "code",
   "execution_count": 19,
   "id": "4dec154c-4518-4427-9fcc-8ca516f5a7ad",
   "metadata": {},
   "outputs": [
    {
     "name": "stdin",
     "output_type": "stream",
     "text": [
      "enter the marks 111\n"
     ]
    },
    {
     "name": "stdout",
     "output_type": "stream",
     "text": [
      "invalid -----\n"
     ]
    }
   ],
   "source": [
    "marks=int(input(\"enter the marks\"))\n",
    "if marks>90 and marks<=100:\n",
    "    print(\"grade A+\")\n",
    "elif marks>80 and marks<=90:\n",
    "       print(\"grade A\")\n",
    "\n",
    "elif marks>70 and marks<=80:\n",
    "        print(\"grade B+\")\n",
    "\n",
    "elif marks>60 and marks<=70:\n",
    "        print(\"grade B\")\n",
    "\n",
    "elif marks>50 and marks<=60:\n",
    "        print(\"grade c\")\n",
    "elif marks>40 and marks<=50:\n",
    "        print(\"grade D\")\n",
    "elif marks>30 and marks<=40:\n",
    "        print(\"grade E\")\n",
    "\n",
    "elif marks>20 and marks<=30:\n",
    "        print(\"grade F\")\n",
    "else:\n",
    "  print(\"invalid -----\")"
   ]
  },
  {
   "cell_type": "code",
   "execution_count": 22,
   "id": "ee14f082-4e0a-43be-9d1f-cf7c9e73dcfb",
   "metadata": {},
   "outputs": [
    {
     "name": "stdin",
     "output_type": "stream",
     "text": [
      "enter the day number: 4\n"
     ]
    },
    {
     "name": "stdout",
     "output_type": "stream",
     "text": [
      "WEDNESDAY\n"
     ]
    }
   ],
   "source": [
    "DAY=int(input(\"enter the day number:\"))\n",
    "match DAY:\n",
    "    case 1:print(\"sunday\")\n",
    "    case 2:print(\"MONDAY\")\n",
    "    case 3:print(\"TUESDAY\")\n",
    "    case 4:print(\"WEDNESDAY\")\n",
    "    case 5:print(\"THURSDAY\")\n",
    "    case 6:print(\"FRIDAY\")\n",
    "    case 7:print(\"SATURDAY\")\n",
    "    case _:print(\"invalid------------\")\n",
    "    "
   ]
  },
  {
   "cell_type": "code",
   "execution_count": null,
   "id": "3b99b02e-3d84-48eb-91db-dee804342ee8",
   "metadata": {},
   "outputs": [],
   "source": [
    "AGE=int(input(\"enter the age:\")\n",
    "match AGE:\n",
    "    case _ if AGE>0 and AGE<=5\n",
    "            print(\"baby\""
   ]
  },
  {
   "cell_type": "code",
   "execution_count": 36,
   "id": "c95249c8-8e59-42a6-a84c-52be09e10c1d",
   "metadata": {},
   "outputs": [
    {
     "name": "stdout",
     "output_type": "stream",
     "text": [
      "0\n",
      "1\n",
      "2\n",
      "3\n",
      "4\n",
      "5\n",
      "6\n",
      "7\n",
      "8\n",
      "9\n",
      "9\n"
     ]
    }
   ],
   "source": [
    "for x in range(0,10):\n",
    "     print(x)\n",
    "\n",
    "while x<10:\n",
    "    print(x)\n",
    "    x=x+1"
   ]
  },
  {
   "cell_type": "code",
   "execution_count": 5,
   "id": "8524d79a-bd4d-4133-bce9-7b32961b30b8",
   "metadata": {},
   "outputs": [
    {
     "name": "stdout",
     "output_type": "stream",
     "text": [
      " *\n"
     ]
    }
   ],
   "source": [
    "for x in range(0,1):\n",
    "    print(\" *\"*(x+1))"
   ]
  },
  {
   "cell_type": "code",
   "execution_count": 3,
   "id": "5343eb2f-01f0-4f9f-9a8d-0ccd867ae352",
   "metadata": {},
   "outputs": [
    {
     "name": "stdout",
     "output_type": "stream",
     "text": [
      "\n",
      "\n",
      "*\n",
      "**\n",
      "***\n"
     ]
    }
   ],
   "source": [
    "for y in range(0,5):\n",
    "    for x in range(0,y-1):\n",
    "        print(\"*\",end=\"\")\n",
    "    print()"
   ]
  },
  {
   "cell_type": "code",
   "execution_count": 22,
   "id": "eccfd161-ec28-44ee-869e-3655ba11933c",
   "metadata": {},
   "outputs": [
    {
     "name": "stdin",
     "output_type": "stream",
     "text": [
      "enter the number : 6\n"
     ]
    },
    {
     "name": "stdout",
     "output_type": "stream",
     "text": [
      "0 1 1 2 3 5 8 13 "
     ]
    }
   ],
   "source": [
    "a=0\n",
    "b=1\n",
    "n=int(input(\"enter the number :\"))\n",
    "print(a,b,end=\" \")\n",
    "for i in range(0,n):\n",
    "    c=a+b\n",
    "    a=b\n",
    "    b=c\n",
    "    print(c,\"\",end=\"\")\n",
    "    "
   ]
  },
  {
   "cell_type": "code",
   "execution_count": 23,
   "id": "0df37f39-8c75-4885-a38d-731e059c71ff",
   "metadata": {},
   "outputs": [
    {
     "name": "stdin",
     "output_type": "stream",
     "text": [
      " 2\n",
      " 3\n"
     ]
    },
    {
     "data": {
      "text/plain": [
       "5"
      ]
     },
     "execution_count": 23,
     "metadata": {},
     "output_type": "execute_result"
    }
   ],
   "source": [
    "def fun(a,b):\n",
    "    c=a+b\n",
    "    return c\n",
    "\n",
    "a=int(input())\n",
    "b=int(input())\n",
    "fun(a,b)"
   ]
  },
  {
   "cell_type": "code",
   "execution_count": 1,
   "id": "a411d5e6-1be4-4b60-86f0-3c4cce791fc1",
   "metadata": {},
   "outputs": [
    {
     "name": "stdin",
     "output_type": "stream",
     "text": [
      " 54\n"
     ]
    },
    {
     "name": "stdout",
     "output_type": "stream",
     "text": [
      "inf\n"
     ]
    }
   ],
   "source": [
    "n=int(input())\n",
    "m=n\n",
    "r=0\n",
    "while n>0:\n",
    "    rem=n%10\n",
    "    r=r*10+rem\n",
    "    n=n/10\n",
    "print(r)"
   ]
  },
  {
   "cell_type": "code",
   "execution_count": null,
   "id": "5d9626ab-7bea-4c12-9112-e0827f82b757",
   "metadata": {},
   "outputs": [],
   "source": []
  }
 ],
 "metadata": {
  "kernelspec": {
   "display_name": "Python 3 (ipykernel)",
   "language": "python",
   "name": "python3"
  },
  "language_info": {
   "codemirror_mode": {
    "name": "ipython",
    "version": 3
   },
   "file_extension": ".py",
   "mimetype": "text/x-python",
   "name": "python",
   "nbconvert_exporter": "python",
   "pygments_lexer": "ipython3",
   "version": "3.12.3"
  }
 },
 "nbformat": 4,
 "nbformat_minor": 5
}
