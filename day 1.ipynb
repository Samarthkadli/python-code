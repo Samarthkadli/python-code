{
 "cells": [
  {
   "cell_type": "code",
   "execution_count": 1,
   "id": "3d95e2d2-b6c1-4a29-9d7b-c0ce95f63d01",
   "metadata": {},
   "outputs": [
    {
     "name": "stdout",
     "output_type": "stream",
     "text": [
      "hello\n"
     ]
    }
   ],
   "source": [
    "print(\"hello\")"
   ]
  },
  {
   "cell_type": "code",
   "execution_count": 4,
   "id": "23503786-e787-4c8b-9255-6cdd3d94a2d7",
   "metadata": {},
   "outputs": [
    {
     "name": "stdout",
     "output_type": "stream",
     "text": [
      "<class 'int'>\n",
      "<class 'float'>\n",
      "<class 'str'>\n",
      "5.2\n"
     ]
    },
    {
     "ename": "TypeError",
     "evalue": "can only concatenate str (not \"float\") to str",
     "output_type": "error",
     "traceback": [
      "\u001b[1;31m---------------------------------------------------------------------------\u001b[0m",
      "\u001b[1;31mTypeError\u001b[0m                                 Traceback (most recent call last)",
      "Cell \u001b[1;32mIn[4], line 8\u001b[0m\n\u001b[0;32m      6\u001b[0m \u001b[38;5;28mprint\u001b[39m(\u001b[38;5;28mtype\u001b[39m(c))\n\u001b[0;32m      7\u001b[0m \u001b[38;5;28mprint\u001b[39m(a\u001b[38;5;241m+\u001b[39mb)\n\u001b[1;32m----> 8\u001b[0m \u001b[38;5;28mprint\u001b[39m(\u001b[43mc\u001b[49m\u001b[38;5;241;43m+\u001b[39;49m\u001b[43mb\u001b[49m)\n",
      "\u001b[1;31mTypeError\u001b[0m: can only concatenate str (not \"float\") to str"
     ]
    }
   ],
   "source": [
    "a=4\n",
    "b=1.2\n",
    "c='d'\n",
    "print(type(a))\n",
    "print(type(b))\n",
    "print(type(c))\n",
    "print(a+b)\n",
    "print(c+b)"
   ]
  },
  {
   "cell_type": "code",
   "execution_count": 3,
   "id": "ab345c2a-97ac-4ca8-bd8b-d27823565c65",
   "metadata": {},
   "outputs": [
    {
     "name": "stdout",
     "output_type": "stream",
     "text": [
      "10\n",
      "<class 'int'>\n",
      "10.9\n",
      "<class 'float'>\n",
      "[10]\n",
      "<class 'list'>\n",
      "(10, 9)\n",
      "<class 'tuple'>\n",
      "range(10, 9)\n",
      "<class 'range'>\n",
      "{1: 'aa', 2: 'bb'}\n",
      "<class 'dict'>\n"
     ]
    }
   ],
   "source": [
    "\n",
    "\n",
    "a=10\n",
    "print(a)\n",
    "print(type(a))\n",
    "\n",
    "a=10.9\n",
    "print(a)\n",
    "print(type(a))\n",
    "\n",
    "\n",
    "a=[10]\n",
    "print(a)\n",
    "print(type(a))\n",
    "\n",
    "a=(10,9)\n",
    "print(a)\n",
    "print(type(a))\n",
    "\n",
    "a=range(10,9)\n",
    "print(a)\n",
    "print(type(a))\n",
    "\n",
    "a={1:\"aa\",2:\"bb\"}\n",
    "print(a)\n",
    "print(type(a))"
   ]
  },
  {
   "cell_type": "code",
   "execution_count": 13,
   "id": "8408a2f4-63e1-4f15-a46a-1b1ad68b702a",
   "metadata": {},
   "outputs": [
    {
     "name": "stdout",
     "output_type": "stream",
     "text": [
      "10\n",
      "10\n",
      "10\n",
      "10\n",
      "11\n",
      "77\n",
      "10\n",
      "77\n",
      "88\n"
     ]
    }
   ],
   "source": [
    "a=b=c=d=10\n",
    "print(a)\n",
    "print(b)\n",
    "print(c)\n",
    "\n",
    "a,b,c={10,11,77}\n",
    "print(a)\n",
    "print(b)\n",
    "print(c)\n",
    "\n",
    "a,b,c=10,77,88\n",
    "print(a)\n",
    "print(b)\n",
    "print(c)"
   ]
  },
  {
   "cell_type": "code",
   "execution_count": 8,
   "id": "7d5d42b2-ccf1-4a66-a550-90c0f312fd23",
   "metadata": {},
   "outputs": [
    {
     "name": "stdout",
     "output_type": "stream",
     "text": [
      "hiudfoai fh0wyn\n",
      "hiudfoaifh0wynidhmhuhfa\n"
     ]
    }
   ],
   "source": [
    "a=\"hiudfoai\"\n",
    "b=\"fh0wyn\"\n",
    "print(a,b)\n",
    "print(a+b+\"idhmhuhfa\")"
   ]
  },
  {
   "cell_type": "code",
   "execution_count": 14,
   "id": "33831b59-a378-4717-8186-d8cd9497edca",
   "metadata": {},
   "outputs": [
    {
     "name": "stdin",
     "output_type": "stream",
     "text": [
      " 22\n"
     ]
    },
    {
     "name": "stdout",
     "output_type": "stream",
     "text": [
      "22\n",
      "<class 'str'>\n"
     ]
    }
   ],
   "source": [
    "a=input()\n",
    "print(a)\n",
    "print(type(a))"
   ]
  },
  {
   "cell_type": "code",
   "execution_count": 17,
   "id": "35ccd2cb-cdd3-48e1-ba07-57892e1254e9",
   "metadata": {},
   "outputs": [
    {
     "name": "stdin",
     "output_type": "stream",
     "text": [
      " 5\n",
      " 7\n"
     ]
    },
    {
     "name": "stdout",
     "output_type": "stream",
     "text": [
      "12\n",
      "<class 'int'>\n"
     ]
    }
   ],
   "source": [
    "a=input()\n",
    "b=input()\n",
    "c=int(a)+int(b)\n",
    "print(c)\n",
    "print(type(c))"
   ]
  },
  {
   "cell_type": "code",
   "execution_count": 18,
   "id": "5d8ba355-b6ea-49bc-93e1-6299bc68d587",
   "metadata": {},
   "outputs": [
    {
     "name": "stdin",
     "output_type": "stream",
     "text": [
      "enter the first name: samarth\n",
      "enter the last name: kadli\n"
     ]
    },
    {
     "name": "stdout",
     "output_type": "stream",
     "text": [
      "samarthkadli\n"
     ]
    }
   ],
   "source": [
    "a=input(\"enter the first name:\")\n",
    "b=input(\"enter the last name:\")\n",
    "c=a+b\n",
    "print(c) "
   ]
  },
  {
   "cell_type": "code",
   "execution_count": 19,
   "id": "69289f9f-0420-488c-8ebe-01992f7b9e69",
   "metadata": {},
   "outputs": [
    {
     "name": "stdin",
     "output_type": "stream",
     "text": [
      "enter the first name: 3\n",
      "enter the last name: 5\n"
     ]
    },
    {
     "name": "stdout",
     "output_type": "stream",
     "text": [
      "8\n"
     ]
    }
   ],
   "source": [
    "a=int(input(\"enter the first name:\"))\n",
    "b=int(input(\"enter the last name:\"))\n",
    "c=a+b\n",
    "print(c)"
   ]
  },
  {
   "cell_type": "code",
   "execution_count": 30,
   "id": "b27470aa-b34c-42d0-9da1-2d9feac54097",
   "metadata": {},
   "outputs": [
    {
     "name": "stdin",
     "output_type": "stream",
     "text": [
      "enter the first name: 4 5 6\n"
     ]
    },
    {
     "name": "stdout",
     "output_type": "stream",
     "text": [
      "456\n"
     ]
    }
   ],
   "source": [
    "a,b,c=input(\"enter the first name:\").split()\n",
    "d=int(a+b+c)\n",
    "print(d)"
   ]
  },
  {
   "cell_type": "code",
   "execution_count": 25,
   "id": "9ebbfaec-443b-44e7-b0ee-7841e0952a2e",
   "metadata": {},
   "outputs": [
    {
     "name": "stdin",
     "output_type": "stream",
     "text": [
      "enter the first name: 4 5 6\n"
     ]
    },
    {
     "name": "stdout",
     "output_type": "stream",
     "text": [
      "-7\n"
     ]
    }
   ],
   "source": [
    "a,b,c=input(\"enter the first name:\").split()\n",
    "d=int(a)-int(b)-int(c)\n",
    "print(d)"
   ]
  },
  {
   "cell_type": "code",
   "execution_count": 26,
   "id": "fd0cbe39-9f8a-46d3-80a6-c58d837e63da",
   "metadata": {},
   "outputs": [
    {
     "name": "stdin",
     "output_type": "stream",
     "text": [
      "enter the first name: 4 5 6\n"
     ]
    },
    {
     "name": "stdout",
     "output_type": "stream",
     "text": [
      "120\n"
     ]
    }
   ],
   "source": [
    "a,b,c=input(\"enter the first name:\").split()\n",
    "d=int(a)*int(b)*int(c)\n",
    "print(d)"
   ]
  },
  {
   "cell_type": "code",
   "execution_count": 27,
   "id": "e8f96cb7-e07d-4564-80d5-364e56096067",
   "metadata": {},
   "outputs": [
    {
     "name": "stdin",
     "output_type": "stream",
     "text": [
      "enter the first name: 4 5 6\n"
     ]
    },
    {
     "name": "stdout",
     "output_type": "stream",
     "text": [
      "15\n"
     ]
    }
   ],
   "source": [
    "a,b,c=input(\"enter the first name:\").split()\n",
    "d=int(a)+int(b)+int(c)\n",
    "print(d)"
   ]
  },
  {
   "cell_type": "code",
   "execution_count": 32,
   "id": "09c11ab1-8958-43bd-b125-e2e8e716ac6f",
   "metadata": {},
   "outputs": [
    {
     "name": "stdin",
     "output_type": "stream",
     "text": [
      "enter the first name: 4 5 6\n"
     ]
    },
    {
     "name": "stdout",
     "output_type": "stream",
     "text": [
      "10\n"
     ]
    }
   ],
   "source": [
    "a,b,c=input(\"enter the first name:\").split()\n",
    "d=int(a)+int(c)\n",
    "print(d)"
   ]
  },
  {
   "cell_type": "code",
   "execution_count": null,
   "id": "be17c068-a099-42b3-8ed2-b89e098e561b",
   "metadata": {},
   "outputs": [],
   "source": []
  }
 ],
 "metadata": {
  "kernelspec": {
   "display_name": "Python 3 (ipykernel)",
   "language": "python",
   "name": "python3"
  },
  "language_info": {
   "codemirror_mode": {
    "name": "ipython",
    "version": 3
   },
   "file_extension": ".py",
   "mimetype": "text/x-python",
   "name": "python",
   "nbconvert_exporter": "python",
   "pygments_lexer": "ipython3",
   "version": "3.12.3"
  }
 },
 "nbformat": 4,
 "nbformat_minor": 5
}
