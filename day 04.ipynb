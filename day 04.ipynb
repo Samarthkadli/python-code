{
 "cells": [
  {
   "cell_type": "code",
   "execution_count": 3,
   "id": "cd15bbd9-443d-40b3-a011-934d27d7a56b",
   "metadata": {},
   "outputs": [
    {
     "name": "stdin",
     "output_type": "stream",
     "text": [
      " madam\n"
     ]
    },
    {
     "name": "stdout",
     "output_type": "stream",
     "text": [
      "a palindrom\n"
     ]
    }
   ],
   "source": [
    "a=input()\n",
    "flag=0\n",
    "for i in range(0,int(len(a)/2)):\n",
    "    if a[i]!=a[(i+1)*-1]:\n",
    "        flag=1\n",
    "        break\n",
    "if flag:\n",
    "    print(\"not a palindrom\")\n",
    "else:\n",
    "    print(\"a palindrom\")"
   ]
  },
  {
   "cell_type": "code",
   "execution_count": 4,
   "id": "91044f6b-8849-418c-80b2-0c1c999ee31c",
   "metadata": {},
   "outputs": [
    {
     "name": "stdout",
     "output_type": "stream",
     "text": [
      "[1, 2, 3, 4, 5]\n"
     ]
    }
   ],
   "source": [
    "a=[3,1,4,2,5]\n",
    "for i in range(len(a)):\n",
    "    for j in range(i+1,len(a)):\n",
    "        if a[i]>a[j]:\n",
    "            a[i],a[j]=a[j],a[i]\n",
    "print(a)"
   ]
  },
  {
   "cell_type": "code",
   "execution_count": 38,
   "id": "bfd92d86-1aab-4bf0-b74d-fd97429958cb",
   "metadata": {},
   "outputs": [
    {
     "name": "stdout",
     "output_type": "stream",
     "text": [
      "this is my file\n",
      "1111\n",
      "this is my file\n",
      "1111\n"
     ]
    }
   ],
   "source": [
    "#file handling\n",
    "#create \n",
    "#read\n",
    "#update \n",
    "#delete\n",
    "\n",
    "#crud operation\n",
    "\n",
    "\n",
    "import os\n",
    "with open(\"filename.txt\",'w')as f:\n",
    "    f.write(\"this is my file\\n\")\n",
    "    f.close()\n",
    "    \n",
    "with open(\"filename.txt\",'a')as f:\n",
    "    f.write(\"this is my file\")\n",
    "    f.close()\n",
    "#os.remove(\"filename.txt\")\n",
    "with open(\"filename.txt\",'r')as f:\n",
    "      for a in f.read().split(\"\\n\"):\n",
    "          #a=f.read()\n",
    "          print(a)\n",
    "         #print(f.read())\n",
    "          print(\"1111\")\n",
    "f.close()\n"
   ]
  },
  {
   "cell_type": "code",
   "execution_count": 11,
   "id": "306b0538-f9bd-4547-8775-7e785f50bd09",
   "metadata": {},
   "outputs": [
    {
     "name": "stdin",
     "output_type": "stream",
     "text": [
      "enter the number of fruits 2\n",
      "enter the names of fruits:\n",
      " apple\n",
      " mango\n",
      "enter the name wantes to replace apple\n",
      "enter the new name banana\n"
     ]
    },
    {
     "name": "stdout",
     "output_type": "stream",
     "text": [
      "mango\n",
      "\n"
     ]
    }
   ],
   "source": [
    "import os\n",
    "n=int(input(\"enter the number of fruits\"))\n",
    "input(\"enter the names of fruits:\\n\")\n",
    "with open(\"fruit.txt\",'w') as f:\n",
    "    for i in range(1,n):\n",
    "       f.write(input())\n",
    "       f.write(\"\\n\")\n",
    "    f.close()\n",
    "\n",
    "with open(\"fruit.txt\",'r') as f:\n",
    "     a=f.read()\n",
    "     old=input(\"enter the name wantes to replace\")\n",
    "     new=input(\"enter the new name\")\n",
    "     y=a.replace(old,new,1)\n",
    "     print(y)"
   ]
  },
  {
   "cell_type": "code",
   "execution_count": null,
   "id": "72bbae82-d4c0-4409-917f-392f317f6cac",
   "metadata": {},
   "outputs": [],
   "source": [
    "class ticket:\n",
    "def __init__(self,name,age,fr,to,D):\n",
    "        self.Name=name\n",
    "        self.Age=age\n",
    "        self.from=fr\n",
    "        self.To=to\n",
    "        self.distence=D\n",
    "    def show(self):\n",
    "        print(\"-----------------------------------------------\")\n",
    "        print(\"NAME:\",self.Name)print(\"AGE:\",self.Age)\n",
    "        print(\"from:\",self.from)print(\"to:\",self.To)\n",
    "\n",
    "class general(ticket):\n",
    "    def __init__(self,name,age,fr,to,dist,num):\n",
    "        self.number=num\n",
    "\n",
    "    def show(self):\n",
    "        super().show()\n",
    "        print(\"number of passangers:\",self.number)\n",
    "\n",
    "\n",
    "if __name__==\"__main__\":\n",
    "    print(\"Enter the ticket you want to book\")\n",
    "    print(\"\\n1.general ticket\\n2.sleeper ticket\\n3.AC ticket\\n4.first class ticket\")\n",
    "    ch=int(input(ch))\n",
    "    match ch:"
   ]
  }
 ],
 "metadata": {
  "kernelspec": {
   "display_name": "Python 3 (ipykernel)",
   "language": "python",
   "name": "python3"
  },
  "language_info": {
   "codemirror_mode": {
    "name": "ipython",
    "version": 3
   },
   "file_extension": ".py",
   "mimetype": "text/x-python",
   "name": "python",
   "nbconvert_exporter": "python",
   "pygments_lexer": "ipython3",
   "version": "3.12.3"
  }
 },
 "nbformat": 4,
 "nbformat_minor": 5
}
