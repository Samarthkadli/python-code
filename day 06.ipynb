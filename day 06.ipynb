{
 "cells": [
  {
   "cell_type": "code",
   "execution_count": 7,
   "id": "d0441954-5a20-4629-9347-79f3dc29e336",
   "metadata": {},
   "outputs": [
    {
     "name": "stdout",
     "output_type": "stream",
     "text": [
      "---car ---\n",
      "colour= red\n",
      "price= 10lakh\n",
      "regnumber= KA37 EC 777\n",
      "engine= 1200CC\n",
      "type of car= SUV\n",
      "number of passengers= 6\n",
      "max speed= 150km/h\n",
      "\n",
      "\n",
      "---Truck---\n",
      "colour= yellow\n",
      "price= 20lakh\n",
      "regnumber= ka37 fc 111\n",
      "engine= 120CC\n",
      "no of axel= 4\n",
      "load capacity= 1000kg\n"
     ]
    }
   ],
   "source": [
    "class vehicle:\n",
    "    def __init__(self,c,p,rg,en):\n",
    "        self.colour=c\n",
    "        self.price=p\n",
    "        self.regplate=rg\n",
    "        self.engine=en\n",
    "    def show(self):\n",
    "        print(\"colour=\",self.colour)\n",
    "        print(\"price=\",self.price)\n",
    "        print(\"regnumber=\",self.regplate)\n",
    "        print(\"engine=\",self.engine)\n",
    "\n",
    "class car(vehicle):\n",
    "    def __init__(self,c,p,rg,en,typ,np,maxs):\n",
    "        super().__init__(c,p,rg,en)\n",
    "        self.type=typ\n",
    "        self.numberofpass=np\n",
    "        self.maxspeed=maxs\n",
    "    def show(self):\n",
    "        print(\"---car ---\")\n",
    "        super().show()\n",
    "        print(\"type of car=\",self.type)\n",
    "        print(\"number of passengers=\",self.numberofpass)\n",
    "        print(\"max speed=\",self.maxspeed)\n",
    "\n",
    "class truck(vehicle):\n",
    "    def __init__(self,c,p,rg,en,na,lc):\n",
    "        super().__init__(c,p,rg,en)\n",
    "        self.noofaxel=na\n",
    "        self.loadcap=lc\n",
    "    def show(self):\n",
    "        print(\"---Truck---\")\n",
    "        super().show()\n",
    "        print(\"no of axel=\",self.noofaxel)\n",
    "        print(\"load capacity=\",self.loadcap)\n",
    "\n",
    "car1=car(\"red\",\"10lakh\",\"KA37 EC 777\",\"1200CC\",\"SUV\",\"6\",\"150km/h\")\n",
    "car1.show()\n",
    "print(\"\\n\")\n",
    "truck1=truck(\"yellow\",\"20lakh\",\"ka37 fc 111\",\"120CC\",\"4\",\"1000kg\")\n",
    "truck1.show()"
   ]
  },
  {
   "cell_type": "code",
   "execution_count": 14,
   "id": "8d7421d3-1a61-4728-94a6-96080614f9e0",
   "metadata": {},
   "outputs": [
    {
     "name": "stdout",
     "output_type": "stream",
     "text": [
      "-----developer details----->\n",
      "Employee ID:- 191681456\n",
      "Employee Name:- shankru\n",
      "Employee salary:- 5,00,000\n",
      "Employee module:- payroll management\n",
      "Employee tech:- job\n",
      "Employee experience:- 12years\n",
      "\n",
      "\n",
      "-----Manager details_------->\n",
      "Employee ID:- 191681456\n",
      "Employee Name:- shankru\n",
      "Employee salary:- 5,00,000\n",
      "Employee project:- abcd\n",
      "Employee client name:- sanjay\n"
     ]
    }
   ],
   "source": [
    "class employee:\n",
    "    def __init__(self,eid,ename,esal):\n",
    "        self.Eid=eid\n",
    "        self.Ename=ename\n",
    "        self.esalary=esal\n",
    "    def show(self):\n",
    "        print(\"Employee ID:-\",self.Eid)\n",
    "        print(\"Employee Name:-\",self.Ename)\n",
    "        print(\"Employee salary:-\",self.esalary)\n",
    "\n",
    "class sstaff(employee):\n",
    "    def __init__(self,eid,ename,esal,wt,wa):\n",
    "        super().__init__(eid,ename,esal)\n",
    "        self.worktype=wt\n",
    "        self.workarea=wa\n",
    "    def show(self):\n",
    "        print(\"------s.staff----->\")\n",
    "        super().show()\n",
    "        print(\"Employee work type:-\",self.worktype)\n",
    "        print(\"Employee work Area:-\",self.workarea)\n",
    "\n",
    "class developer(employee):\n",
    "    def __init__(self,eid,ename,esal,mod,tec,exp):\n",
    "        super().__init__(eid,ename,esal)\n",
    "        self.module=mod\n",
    "        self.tech=tec\n",
    "        self.experience=exp\n",
    "    def show(self):\n",
    "        print(\"-----developer details----->\")\n",
    "        super().show()\n",
    "        print(\"Employee module:-\",self.module)\n",
    "        print(\"Employee tech:-\",self.tech)\n",
    "        print(\"Employee experience:-\",self.experience)\n",
    "\n",
    "\n",
    "class manager(employee):\n",
    "    def __init__(self,eid,ename,esal,pro,ca):\n",
    "        super().__init__(eid,ename,esal)\n",
    "        self.project=pro\n",
    "        self.clientname=ca\n",
    "        \n",
    "    def show(self):\n",
    "        print(\"\\n\\n-----Manager details_------->\")\n",
    "        super().show()\n",
    "        print(\"Employee project:-\",self.project)\n",
    "        print(\"Employee client name:-\",self.clientname)\n",
    "\n",
    "dev1=developer(\"191681456\",\"shankru\",\"5,00,000\",\"payroll management\",\"job\",\"12years\")\n",
    "dev1.show()\n",
    "\n",
    "mag=manager(\"191681456\",\"shankru\",\"5,00,000\",\"abcd\",\"sanjay\")\n",
    "mag.show()\n",
    "\n"
   ]
  },
  {
   "cell_type": "code",
   "execution_count": 58,
   "id": "28585bb5-b46a-402f-a494-fa4509171859",
   "metadata": {},
   "outputs": [
    {
     "name": "stdout",
     "output_type": "stream",
     "text": [
      "\n",
      "1 \n",
      "0 1 \n",
      "1 0 1 \n",
      "0 1 0 1 \n"
     ]
    }
   ],
   "source": [
    "#1\n",
    "for i in range(5):\n",
    "        for j in range(i):\n",
    "            if (i-j)%2==0:\n",
    "                print(\"0\",end=\" \")\n",
    "            else:\n",
    "                print(\"1\",end=\" \")\n",
    "        print('')\n",
    "    "
   ]
  },
  {
   "cell_type": "code",
   "execution_count": 54,
   "id": "fc884916-044f-44a4-9ca4-e7bccc0379fd",
   "metadata": {},
   "outputs": [
    {
     "name": "stdout",
     "output_type": "stream",
     "text": [
      "* * * * * * \n",
      "*         * \n",
      "*         * \n",
      "*         * \n",
      "*         * \n",
      "* * * * * * \n"
     ]
    }
   ],
   "source": [
    "for i in range(1,7):\n",
    "    for j in range(1,7):\n",
    "        if i==1 or i==6 or j==1 or j==6:\n",
    "            print(\"*\",end=\" \")\n",
    "        else:\n",
    "            print(\" \",end=\" \")\n",
    "     print('')"
   ]
  },
  {
   "cell_type": "code",
   "execution_count": 74,
   "id": "25685280-1a49-4196-9b5b-527f61cadfdc",
   "metadata": {},
   "outputs": [
    {
     "name": "stdout",
     "output_type": "stream",
     "text": [
      "\n",
      " 1 \n",
      " 2  3 \n",
      " 4  5  6 \n",
      " 7  8  9  10 \n",
      " 11  12  13  14  15 \n"
     ]
    }
   ],
   "source": [
    "num=1\n",
    "for i in range(6):\n",
    "        for j in range(i):\n",
    "            #print(f\"{num} \",end=\" \")\n",
    "            print(\"\",num,end=\" \")\n",
    "            num+=1\n",
    "        print('')"
   ]
  },
  {
   "cell_type": "code",
   "execution_count": 93,
   "id": "9b2049a7-4fa1-401a-a410-8aa58871ab30",
   "metadata": {},
   "outputs": [
    {
     "name": "stdout",
     "output_type": "stream",
     "text": [
      "*  *  *  *  *  \n",
      "*  *  *  *  \n",
      "*  *  *  \n",
      "*  *  \n",
      "*  \n"
     ]
    }
   ],
   "source": [
    "\n",
    "for i in range(0,5):\n",
    "        for j in range(i,5):\n",
    "            print(\"* \",end=\" \")\n",
    "        print('')"
   ]
  },
  {
   "cell_type": "code",
   "execution_count": 82,
   "id": "7a4f22eb-9215-4931-ab84-39a3fd59d413",
   "metadata": {},
   "outputs": [
    {
     "name": "stdout",
     "output_type": "stream",
     "text": [
      "\n",
      " 1 \n",
      " 1  2 \n",
      " 1  2  3 \n",
      " 1  2  3  4 \n",
      " 1  2  3  4  5 \n"
     ]
    }
   ],
   "source": [
    "for i in range(1,7):\n",
    "        for j in range(1,i):\n",
    "            #print(f\"{num} \",end=\" \")\n",
    "            print(\"\",j,end=\" \")\n",
    "            \n",
    "        print('')\n"
   ]
  },
  {
   "cell_type": "code",
   "execution_count": 87,
   "id": "f28cb4aa-3352-403d-9cab-6389153ac35c",
   "metadata": {},
   "outputs": [
    {
     "name": "stdout",
     "output_type": "stream",
     "text": [
      " 6  5  4  3  2  1 \n",
      " 5  4  3  2  1 \n",
      " 4  3  2  1 \n",
      " 3  2  1 \n",
      " 2  1 \n",
      " 1 \n"
     ]
    }
   ],
   "source": [
    "for i in range(6,0,-1):\n",
    "        for j in range(i,0,-1):\n",
    "            #print(f\"{num} \",end=\" \")\n",
    "            print(\"\",j,end=\" \")\n",
    "            \n",
    "        print('')"
   ]
  },
  {
   "cell_type": "code",
   "execution_count": 91,
   "id": "2443bd31-5a49-4e64-871d-ff48686d4425",
   "metadata": {},
   "outputs": [
    {
     "name": "stdout",
     "output_type": "stream",
     "text": [
      "* * * * * * \n",
      "* * * * * * \n",
      "* * * * * * \n",
      "* * * * * * \n",
      "* * * * * * \n",
      "* * * * * * \n"
     ]
    }
   ],
   "source": [
    "for i in range(1,7):\n",
    "    for j in range(1,7):\n",
    "        if i==1 or i==6 or j==1 or j==6:\n",
    "            print(\"*\",end=\" \")\n",
    "        else:\n",
    "            print(\"*\",end=\" \")\n",
    "    print('')"
   ]
  },
  {
   "cell_type": "code",
   "execution_count": 98,
   "id": "aca608bf-9fa6-4043-af34-2ce4d0b08696",
   "metadata": {},
   "outputs": [
    {
     "name": "stdin",
     "output_type": "stream",
     "text": [
      " 5\n"
     ]
    },
    {
     "name": "stdout",
     "output_type": "stream",
     "text": [
      "        * \n",
      "      * * * \n",
      "    * * * * * \n",
      "  * * * * * * * \n",
      "* * * * * * * * * \n",
      "  * * * * * * * \n",
      "    * * * * * \n",
      "      * * * \n",
      "        * \n"
     ]
    }
   ],
   "source": [
    "n=int(input())\n",
    "for i in range(1,n+1):\n",
    "         for j in range(1,n-i+1):\n",
    "             print(\" \",end=\" \")\n",
    "         for j in range(0,2*i-1):\n",
    "             print(\"*\",end=\" \")\n",
    "         print()\n",
    "for i in range(n-1,0,-1):\n",
    "         for j in range(1,n-i+1):\n",
    "             print(\" \",end=\" \")\n",
    "         for j in range(0,2*i-1):\n",
    "             print(\"*\",end=\" \")\n",
    "         print()\n"
   ]
  },
  {
   "cell_type": "code",
   "execution_count": 122,
   "id": "37ff0d98-587b-4b76-8e84-c9f773153ea4",
   "metadata": {},
   "outputs": [
    {
     "name": "stdout",
     "output_type": "stream",
     "text": [
      "1 2 3 4 5 6 7 8 \n",
      "  1 2 3 4 5 6 \n",
      "    1 2 3 4 \n",
      "      1 2 \n"
     ]
    }
   ],
   "source": [
    "for i in range(n,1,-1):\n",
    "         for j in range(1,n-i+1):\n",
    "             print(\" \",end=\" \")\n",
    "         for j in range(1,2*i-1):\n",
    "             print(j,end=\" \")\n",
    "         print()\n"
   ]
  },
  {
   "cell_type": "code",
   "execution_count": 104,
   "id": "520bac23-ac38-4dce-ab92-761e50a813d4",
   "metadata": {},
   "outputs": [
    {
     "name": "stdin",
     "output_type": "stream",
     "text": [
      "enter the limit 5\n"
     ]
    },
    {
     "name": "stdout",
     "output_type": "stream",
     "text": [
      "* * * * * \n",
      "* * * * \n",
      "* * * \n",
      "* * \n",
      "* \n",
      "* * \n",
      "* * * \n",
      "* * * * \n",
      "* * * * * \n"
     ]
    }
   ],
   "source": [
    "n=int(input(\"enter the limit\"))\n",
    "for i in range(n):\n",
    "    for j in range(i,n):\n",
    "        print(\"*\",end=\" \")\n",
    "    print()\n",
    "for i in range(2,n+1):\n",
    "    for j in range(i):\n",
    "        print(\"*\",end=\" \")\n",
    "    print()"
   ]
  },
  {
   "cell_type": "code",
   "execution_count": 124,
   "id": "823edb2d-2189-4f69-a196-b819b7dc39cf",
   "metadata": {},
   "outputs": [
    {
     "name": "stdin",
     "output_type": "stream",
     "text": [
      " 5\n"
     ]
    },
    {
     "name": "stdout",
     "output_type": "stream",
     "text": [
      "        * \n",
      "      *   * \n",
      "    *       * \n",
      "  *           * \n",
      "* * * * * * * * * \n"
     ]
    }
   ],
   "source": [
    "n=int(input())\n",
    "for i in range(1,n+1):\n",
    "    if i==1 or i==n:\n",
    "         for j in range(1,n-i+1):\n",
    "             print(\" \",end=\" \")\n",
    "         for j in range(0,2*i-1):\n",
    "             print(\"*\",end=\" \")\n",
    "         print()\n",
    "    else:\n",
    "        for j in range(1,n-i+1):\n",
    "            print(\" \",end=\" \")\n",
    "        for j in range(0,2*i-1):\n",
    "            if j==0 or j==2*i-2:\n",
    "                print(\"*\",end=\" \")\n",
    "            else:\n",
    "                print(\" \",end=\" \")\n",
    "        print()\n"
   ]
  },
  {
   "cell_type": "code",
   "execution_count": 1,
   "id": "f6222416-92ab-4564-a2c6-a159d248ecb4",
   "metadata": {},
   "outputs": [
    {
     "name": "stdin",
     "output_type": "stream",
     "text": [
      " 5\n"
     ]
    },
    {
     "name": "stdout",
     "output_type": "stream",
     "text": [
      "        *                 * \n",
      "      * * *             * * * \n",
      "    * * * * *         * * * * * \n",
      "  * * * * * * *     * * * * * * * \n",
      "* * * * * * * * * * * * * * * * * * \n",
      "* * * * * * * * * * * * * * * * * \n",
      "  * * * * * * * * * * * * * * * \n",
      "    * * * * * * * * * * * * * \n",
      "      * * * * * * * * * * * \n",
      "        * * * * * * * * * \n",
      "          * * * * * * * \n",
      "            * * * * * \n",
      "              * * * \n",
      "                * \n"
     ]
    }
   ],
   "source": [
    "n=int(input())\n",
    "for i in range(1,n+1):\n",
    "         for j in range(1,n-i+1):\n",
    "             print(\" \",end=\" \")\n",
    "         for j in range(0,2*i-1):\n",
    "             print(\"*\",end=\" \")\n",
    "         for j in range(1,(n-i+1)*2):\n",
    "             if j!=(n-i+1)*2-1:\n",
    "                    print(\" \",end=\" \")\n",
    "         for j in range(0,2*i-1):\n",
    "             print(\"*\",end=\" \")\n",
    "         print()\n",
    "for i in range((2*n-1),0,-1):\n",
    "         for j in range(1,(2*n)-i):\n",
    "             print(\" \",end=\" \")\n",
    "         for j in range(0,2*i-1):\n",
    "             print(\"*\",end=\" \")\n",
    "         print()"
   ]
  },
  {
   "cell_type": "code",
   "execution_count": 5,
   "id": "f79e98b8-f49c-48ba-a19f-9fced5c7672f",
   "metadata": {},
   "outputs": [
    {
     "name": "stdin",
     "output_type": "stream",
     "text": [
      " 5\n"
     ]
    },
    {
     "name": "stdout",
     "output_type": "stream",
     "text": [
      "* * * * * \n",
      "*       * \n",
      "*       * \n",
      "*       * \n",
      "* * * * * \n",
      "*       * \n",
      "*       * \n",
      "*       * \n",
      "* * * * * \n"
     ]
    }
   ],
   "source": [
    "n=int(input())\n",
    "for i in range(n):\n",
    "    if i==0 or i==n-1:\n",
    "        for j in range(n):\n",
    "            print(\"*\",end=\" \")\n",
    "        print()\n",
    "    else: \n",
    "        for j in range(n):\n",
    "            if j==0 or j==n-1:\n",
    "                print(\"*\",end=\" \")\n",
    "            else: \n",
    "                print(\" \",end=\" \")\n",
    "        print()\n",
    "for i in range(1,n):\n",
    "    if  i==n-1:\n",
    "        for j in range(n):\n",
    "            print(\"*\",end=\" \")\n",
    "        print()\n",
    "    else:\n",
    "         for j in range(n):\n",
    "            if j==0 or j==n-1:\n",
    "                print(\"*\",end=\" \")\n",
    "            else: \n",
    "                print(\" \",end=\" \")\n",
    "         print()\n",
    "\n",
    "\n"
   ]
  },
  {
   "cell_type": "code",
   "execution_count": 6,
   "id": "4d958588-33c3-44c3-9d00-58c477bffb77",
   "metadata": {},
   "outputs": [
    {
     "name": "stdin",
     "output_type": "stream",
     "text": [
      " 5\n"
     ]
    },
    {
     "name": "stdout",
     "output_type": "stream",
     "text": [
      "* * * * * * \n",
      "*         * \n",
      "*         * \n",
      "*         * \n",
      "* * * * * * \n",
      "*         * \n",
      "*         * \n",
      "*         * \n",
      "*         * \n"
     ]
    }
   ],
   "source": [
    "n=int(input())\n",
    "for i in range(1,2*n):\n",
    "    if i==1 or i==(2*n)//2:\n",
    "        for j in range(n+1):\n",
    "            print(\"*\",end=\" \")\n",
    "        print()\n",
    "    else: \n",
    "        for j in range(n+1):\n",
    "            if j==0 or j==n:\n",
    "                print(\"*\",end=\" \")\n",
    "            else: \n",
    "                print(\" \",end=\" \")\n",
    "        print()\n"
   ]
  },
  {
   "cell_type": "code",
   "execution_count": null,
   "id": "20e50c4f-9b3d-42ca-ab60-fe0c362f1be2",
   "metadata": {},
   "outputs": [],
   "source": []
  }
 ],
 "metadata": {
  "kernelspec": {
   "display_name": "Python 3 (ipykernel)",
   "language": "python",
   "name": "python3"
  },
  "language_info": {
   "codemirror_mode": {
    "name": "ipython",
    "version": 3
   },
   "file_extension": ".py",
   "mimetype": "text/x-python",
   "name": "python",
   "nbconvert_exporter": "python",
   "pygments_lexer": "ipython3",
   "version": "3.12.3"
  }
 },
 "nbformat": 4,
 "nbformat_minor": 5
}
