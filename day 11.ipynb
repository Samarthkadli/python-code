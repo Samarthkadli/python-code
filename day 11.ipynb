{
 "cells": [
  {
   "cell_type": "code",
   "execution_count": null,
   "id": "7d0f9724-a140-4a8e-b69a-37ef27c27566",
   "metadata": {},
   "outputs": [],
   "source": [
    "1> insertion                   2>deletion\n",
    "     start                        start\n",
    "    mid                             mid\n",
    "    end                            end   "
   ]
  },
  {
   "cell_type": "code",
   "execution_count": null,
   "id": "71f903f9-3b7d-4810-b01f-4fb10ca2daac",
   "metadata": {},
   "outputs": [
    {
     "name": "stdout",
     "output_type": "stream",
     "text": [
      "1.front insert\n",
      "2.mid insert\n",
      "3.end insert\n",
      "4.front delete\n",
      "5.mid delete\n",
      "6.end delete\n",
      "7.disp\n"
     ]
    },
    {
     "name": "stdin",
     "output_type": "stream",
     "text": [
      "Enter the choice 1\n",
      "enter the element 1\n"
     ]
    },
    {
     "name": "stdout",
     "output_type": "stream",
     "text": [
      "1.front insert\n",
      "2.mid insert\n",
      "3.end insert\n",
      "4.front delete\n",
      "5.mid delete\n",
      "6.end delete\n",
      "7.disp\n"
     ]
    },
    {
     "name": "stdin",
     "output_type": "stream",
     "text": [
      "Enter the choice 1\n",
      "enter the element 2\n"
     ]
    },
    {
     "name": "stdout",
     "output_type": "stream",
     "text": [
      "1.front insert\n",
      "2.mid insert\n",
      "3.end insert\n",
      "4.front delete\n",
      "5.mid delete\n",
      "6.end delete\n",
      "7.disp\n"
     ]
    },
    {
     "name": "stdin",
     "output_type": "stream",
     "text": [
      "Enter the choice 1\n",
      "enter the element 3\n"
     ]
    },
    {
     "name": "stdout",
     "output_type": "stream",
     "text": [
      "1.front insert\n",
      "2.mid insert\n",
      "3.end insert\n",
      "4.front delete\n",
      "5.mid delete\n",
      "6.end delete\n",
      "7.disp\n"
     ]
    },
    {
     "name": "stdin",
     "output_type": "stream",
     "text": [
      "Enter the choice 1\n",
      "enter the element 4\n"
     ]
    },
    {
     "name": "stdout",
     "output_type": "stream",
     "text": [
      "1.front insert\n",
      "2.mid insert\n",
      "3.end insert\n",
      "4.front delete\n",
      "5.mid delete\n",
      "6.end delete\n",
      "7.disp\n"
     ]
    },
    {
     "name": "stdin",
     "output_type": "stream",
     "text": [
      "Enter the choice 1\n",
      "enter the element 5\n"
     ]
    },
    {
     "name": "stdout",
     "output_type": "stream",
     "text": [
      "1.front insert\n",
      "2.mid insert\n",
      "3.end insert\n",
      "4.front delete\n",
      "5.mid delete\n",
      "6.end delete\n",
      "7.disp\n"
     ]
    },
    {
     "name": "stdin",
     "output_type": "stream",
     "text": [
      "Enter the choice 1\n",
      "enter the element 6\n"
     ]
    },
    {
     "name": "stdout",
     "output_type": "stream",
     "text": [
      "1.front insert\n",
      "2.mid insert\n",
      "3.end insert\n",
      "4.front delete\n",
      "5.mid delete\n",
      "6.end delete\n",
      "7.disp\n"
     ]
    },
    {
     "name": "stdin",
     "output_type": "stream",
     "text": [
      "Enter the choice 7\n"
     ]
    },
    {
     "name": "stdout",
     "output_type": "stream",
     "text": [
      "--------------------------------------------------\n",
      "6 -> 5 -> 4 -> 3 -> 2 -> 1 -> None\n",
      "1.front insert\n",
      "2.mid insert\n",
      "3.end insert\n",
      "4.front delete\n",
      "5.mid delete\n",
      "6.end delete\n",
      "7.disp\n"
     ]
    },
    {
     "name": "stdin",
     "output_type": "stream",
     "text": [
      "Enter the choice 4\n"
     ]
    },
    {
     "name": "stdout",
     "output_type": "stream",
     "text": [
      "1.front insert\n",
      "2.mid insert\n",
      "3.end insert\n",
      "4.front delete\n",
      "5.mid delete\n",
      "6.end delete\n",
      "7.disp\n"
     ]
    },
    {
     "name": "stdin",
     "output_type": "stream",
     "text": [
      "Enter the choice 4\n"
     ]
    },
    {
     "name": "stdout",
     "output_type": "stream",
     "text": [
      "1.front insert\n",
      "2.mid insert\n",
      "3.end insert\n",
      "4.front delete\n",
      "5.mid delete\n",
      "6.end delete\n",
      "7.disp\n"
     ]
    },
    {
     "name": "stdin",
     "output_type": "stream",
     "text": [
      "Enter the choice 7\n"
     ]
    },
    {
     "name": "stdout",
     "output_type": "stream",
     "text": [
      "--------------------------------------------------\n",
      "4 -> 3 -> 2 -> 1 -> None\n",
      "1.front insert\n",
      "2.mid insert\n",
      "3.end insert\n",
      "4.front delete\n",
      "5.mid delete\n",
      "6.end delete\n",
      "7.disp\n"
     ]
    }
   ],
   "source": [
    "class node:\n",
    "    def __init__(self,d):\n",
    "        self.data=d\n",
    "        self.next=None\n",
    "class linkedlist:\n",
    "    def __init__(self):\n",
    "        self.head=None\n",
    "        \n",
    "    def front_insert(self,d):\n",
    "        new_node = node(data)\n",
    "        new_node.next = self.head\n",
    "        self.head = new_node\n",
    "    \n",
    "    def end_insert(self,d):\n",
    "        x=d\n",
    "        temp=node(x)\n",
    "        curr=self.head\n",
    "\n",
    "        if curr==None:\n",
    "           self.head=temp\n",
    "\n",
    "        else:\n",
    "            while curr.next!=None:\n",
    "                curr=curr.next\n",
    "            curr.next=temp\n",
    "    def mid_insert(self,d,p):\n",
    "        l=int(input())\n",
    "        x=int(input())\n",
    "        curr=self.head\n",
    "        while curr!=None:\n",
    "            if curr.data==l:\n",
    "                break\n",
    "            curr=curr.next\n",
    "        temp=node(x)\n",
    "        temp.next=curr.next\n",
    "        curr.next=temp\n",
    "        \n",
    "\n",
    "    def front_del(self):\n",
    "         if self.head is None:\n",
    "            print(\"List is empty\")\n",
    "            return\n",
    "         else:\n",
    "            self.head=self.head.next\n",
    "         \n",
    "    def mid_del(self,p):\n",
    "         if self.head is None:\n",
    "            print(\"List is empty\")\n",
    "            return\n",
    "         temp = self.head\n",
    "         if position == 0:\n",
    "            self.head=temp.next\n",
    "            temp = None\n",
    "            return\n",
    "         for i in range(position - 1):\n",
    "            temp = temp.next\n",
    "            if temp is None:\n",
    "                break\n",
    "         if temp is None or temp.next is None:\n",
    "             return\n",
    "         next_node = temp.next.next\n",
    "         temp.next = None\n",
    "         temp.next = next_node\n",
    "\n",
    "    def end_del(self):\n",
    "         if self.head is None:\n",
    "             print(\"List is empty\")\n",
    "             return\n",
    "         if self.head.next is None:\n",
    "             self.head=None\n",
    "             return\n",
    "         second_last=self.head\n",
    "         while second_last.next.next:\n",
    "             second_last=second_last.next\n",
    "         second_last.next=None\n",
    "        \n",
    "    def disp(self):\n",
    "         current = self.head\n",
    "         print(\"--------------------------------------------------\")\n",
    "         while current:\n",
    "             print(current.data, end=\" -> \")\n",
    "             \n",
    "             current = current.next\n",
    "         print(\"None\")\n",
    "\n",
    "if __name__ == \"__main__\":\n",
    "    linked_list = linkedlist()\n",
    "\n",
    "ch=0\n",
    "while True:\n",
    "    print(\"1.front insert\\n2.mid insert\\n3.end insert\\n4.front delete\\n5.mid delete\\n6.end delete\\n7.disp\")\n",
    "    ch=int(input(\"Enter the choice\"))\n",
    "    match(ch):\n",
    "        case 1:\n",
    "            data=int(input(\"enter the element\"))\n",
    "            linked_list.front_insert(data)\n",
    "        case 2:\n",
    "            data=int(input(\"enter the element\"))\n",
    "            location=int(input(\"enter the location\"))\n",
    "            linked_list.mid_insert(data,location)\n",
    "        case 3:\n",
    "            data=int(input(\"enter the element\"))\n",
    "            linked_list.end_insert(data)\n",
    "        case 4:\n",
    "            linked_list.front_del()\n",
    "        case 5:\n",
    "            linked_list.mid_del()\n",
    "        case 6:\n",
    "            linked_list.end_del()\n",
    "        case 7:\n",
    "            linked_list.disp()\n",
    "        case _:\n",
    "            print(\"invalid choice\")\n",
    "        \n",
    "\n",
    "\n"
   ]
  },
  {
   "cell_type": "code",
   "execution_count": 14,
   "id": "bb43ab11-1978-40c7-aca5-913e0511108d",
   "metadata": {},
   "outputs": [
    {
     "name": "stdout",
     "output_type": "stream",
     "text": [
      "1 -> 2 -> 3 -> None\n",
      "0 -> 1 -> 2 -> 3 -> None\n",
      "0 -> 1 -> 5 -> 2 -> None\n",
      "0 -> 1 -> 2 -> None\n"
     ]
    }
   ],
   "source": [
    "class Node:\n",
    "    def __init__(self, data=None):\n",
    "        self.data = data\n",
    "        self.next = None\n",
    "class LinkedList:\n",
    "    def __init__(self):\n",
    "        self.head = None\n",
    "    def insert_at_start(self, data):\n",
    "        new_node = Node(data)\n",
    "        new_node.next = self.head\n",
    "        self.head = new_node\n",
    "    def insert_at_end(self, data):\n",
    "        new_node = Node(data)\n",
    "        if not self.head:\n",
    "            self.head = new_node\n",
    "            return\n",
    "        current = self.head\n",
    "        while current.next:\n",
    "            current = current.next\n",
    "        current.next = new_node\n",
    "    def insert_at_position(self, position, data):\n",
    "        if position == 0:\n",
    "            self.insert_at_start(data)\n",
    "            return\n",
    "        new_node = Node(data)\n",
    "        current = self.head\n",
    "        for _ in range(position - 1):\n",
    "            if current is None:\n",
    "                print(\"Position out of range\")\n",
    "                return\n",
    "            current = current.next\n",
    "        if current is None:\n",
    "            print(\"Position out of range\")\n",
    "            return\n",
    "        new_node.next = current.next\n",
    "        current.next = new_node\n",
    "    def delete_at_start(self):\n",
    "        if self.head:\n",
    "            self.head = self.head.next\n",
    "        else:\n",
    "            print(\"List is empty\")\n",
    "    def delete_at_end(self):\n",
    "        if not self.head:\n",
    "            print(\"List is empty\")\n",
    "            return\n",
    "        if not self.head.next:\n",
    "            self.head = None\n",
    "            return\n",
    "        current = self.head\n",
    "        while current.next.next:\n",
    "            current = current.next\n",
    "        current.next = None\n",
    "    def delete_at_position(self, position):\n",
    "        if position == 0:\n",
    "            self.delete_at_start()\n",
    "            return\n",
    "        current = self.head\n",
    "        for _ in range(position - 1):\n",
    "            if current is None:\n",
    "                print(\"Position out of range\")\n",
    "                return\n",
    "            current = current.next\n",
    "        if current is None or current.next is None:\n",
    "            print(\"Position out of range\")\n",
    "            return\n",
    "        current.next = current.next.next\n",
    "    def display(self):\n",
    "        current = self.head\n",
    "        while current:\n",
    "            print(current.data, end=\" -> \")\n",
    "            current = current.next\n",
    "        print(\"None\")\n",
    "linked_list = LinkedList()\n",
    "linked_list.insert_at_end(1)\n",
    "linked_list.insert_at_end(2)\n",
    "linked_list.insert_at_end(3)\n",
    "linked_list.display()  \n",
    "linked_list.insert_at_start(0)\n",
    "linked_list.display()\n",
    "linked_list.insert_at_position(2, 5)\n",
    "linked_list.display\n",
    "linked_list.delete_at_end()\n",
    "linked_list.display()  \n",
    "linked_list.delete_at_position(2)\n",
    "linked_list.display()"
   ]
  },
  {
   "cell_type": "code",
   "execution_count": 18,
   "id": "ffef6090-9f9d-4633-ba4b-bdfa4c0d21db",
   "metadata": {},
   "outputs": [
    {
     "name": "stdout",
     "output_type": "stream",
     "text": [
      "preorder------>\n",
      "1\n",
      "2\n",
      "4\n",
      "5\n",
      "3\n",
      "6\n",
      "7\n",
      "None\n",
      "---------------------------------------------------------------------------------------------\n",
      "postorder--->\n",
      "4\n",
      "5\n",
      "2\n",
      "6\n",
      "7\n",
      "3\n",
      "1\n",
      "None\n",
      "---------------------------------------------------------------------------------------------\n",
      "inorder--->\n",
      "4\n",
      "2\n",
      "5\n",
      "1\n",
      "6\n",
      "3\n",
      "7\n",
      "None\n",
      "---------------------------------------------------------------------------------------------\n",
      "level order\n",
      "1 \n",
      "2 3 \n",
      "4 5 6 7 \n",
      "None\n"
     ]
    }
   ],
   "source": [
    "#tree non liner data stru \n",
    "class node:\n",
    "    def __init__(self,value):\n",
    "        self.data=value\n",
    "        self.left=None\n",
    "        self.right=None\n",
    "def preorder(root):\n",
    "    if root ==None:\n",
    "        return\n",
    "    print(root.data)\n",
    "    preorder(root.left)\n",
    "    preorder(root.right)\n",
    "\n",
    "def inorder(root):\n",
    "    if root ==None:\n",
    "        return\n",
    "    inorder(root.left)\n",
    "    print(root.data)\n",
    "    inorder(root.right)\n",
    "\n",
    "def postorder(root):\n",
    "    if root ==None:\n",
    "        return\n",
    "    postorder(root.left)\n",
    "    postorder(root.right)\n",
    "    print(root.data)\n",
    "\n",
    "def levelorder(root):\n",
    "    Q=[root,None]\n",
    "    while Q:\n",
    "        curr=Q.pop(0)\n",
    "        if curr==None:\n",
    "            print()\n",
    "            if Q:\n",
    "                Q.append(curr)\n",
    "        else:\n",
    "            print(curr.data,end=\" \")\n",
    "            if curr.left!=None:\n",
    "                Q.append(curr.left)\n",
    "            if curr.right!=None:\n",
    "                Q.append(curr.right)\n",
    "root=node(1)\n",
    "root.left=node(2)\n",
    "root.right=node(3)\n",
    "\n",
    "root.left.left=node(4)\n",
    "root.left.right=node(5)\n",
    "\n",
    "root.right.left=node(6)\n",
    "root.right.right=node(7)\n",
    "print(\"preorder------>\")\n",
    "print(preorder(root))\n",
    "print(\"---------------------------------------------------------------------------------------------\")\n",
    "print(\"postorder--->\")\n",
    "print(postorder(root))\n",
    "print(\"---------------------------------------------------------------------------------------------\")\n",
    "print(\"inorder--->\")\n",
    "print(inorder(root))\n",
    "print(\"---------------------------------------------------------------------------------------------\")\n",
    "print(\"level order\")\n",
    "print(levelorder(root))"
   ]
  },
  {
   "cell_type": "code",
   "execution_count": null,
   "id": "8d542242-cff2-45da-813e-c8a84b59a52d",
   "metadata": {},
   "outputs": [],
   "source": [
    "#level order traversing\n",
    "def levelorder(root):\n",
    "    Q=[root,None]\n",
    "    while Q:\n",
    "        curr=Q.pop(0)\n",
    "        if curr==None:\n",
    "            print()\n",
    "            if Q:\n",
    "                Q.append(curr)\n",
    "        else:\n",
    "            print(curr.data)\n",
    "            if curr.left!=None:\n",
    "                Q.append(curr.left)\n",
    "            if curr.right!=None:\n",
    "                Q.append(curr.right)\n",
    "                "
   ]
  }
 ],
 "metadata": {
  "kernelspec": {
   "display_name": "Python 3 (ipykernel)",
   "language": "python",
   "name": "python3"
  },
  "language_info": {
   "codemirror_mode": {
    "name": "ipython",
    "version": 3
   },
   "file_extension": ".py",
   "mimetype": "text/x-python",
   "name": "python",
   "nbconvert_exporter": "python",
   "pygments_lexer": "ipython3",
   "version": "3.12.3"
  }
 },
 "nbformat": 4,
 "nbformat_minor": 5
}
