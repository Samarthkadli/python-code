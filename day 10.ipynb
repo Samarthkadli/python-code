{
 "cells": [
  {
   "cell_type": "code",
   "execution_count": 4,
   "id": "e2dccc3a-309c-4146-9663-2ff220367c81",
   "metadata": {},
   "outputs": [
    {
     "name": "stdin",
     "output_type": "stream",
     "text": [
      " 3\n"
     ]
    },
    {
     "name": "stdout",
     "output_type": "stream",
     "text": [
      "3\n",
      "6\n",
      "9\n",
      "12\n",
      "15\n",
      "18\n",
      "21\n",
      "24\n",
      "27\n",
      "30\n"
     ]
    },
    {
     "data": {
      "text/plain": [
       "3"
      ]
     },
     "execution_count": 4,
     "metadata": {},
     "output_type": "execute_result"
    }
   ],
   "source": [
    "printing a table\n",
    "def fun(i):\n",
    "    for e in range(1,11):\n",
    "        print(e*i)\n",
    "    return i\n",
    "i=int(input())\n",
    "fun(i)"
   ]
  },
  {
   "cell_type": "code",
   "execution_count": 13,
   "id": "8b178aa5-d173-459b-a860-73117bc08b1a",
   "metadata": {},
   "outputs": [
    {
     "name": "stdout",
     "output_type": "stream",
     "text": [
      "13\n",
      "26\n",
      "39\n",
      "52\n",
      "65\n",
      "78\n",
      "91\n",
      "104\n",
      "117\n",
      "130\n"
     ]
    }
   ],
   "source": [
    "def fun(i,n):\n",
    "    if i==11:\n",
    "        return\n",
    "    print(i*n)\n",
    "    i+=1\n",
    "    fun(i,n)\n",
    "\n",
    "fun(1,13)"
   ]
  },
  {
   "cell_type": "code",
   "execution_count": 29,
   "id": "119a1178-68cf-430b-aa19-499b28f03e8a",
   "metadata": {},
   "outputs": [
    {
     "name": "stdout",
     "output_type": "stream",
     "text": [
      "120\n"
     ]
    }
   ],
   "source": [
    "n=5\n",
    "e=1\n",
    "for i in range(n,1,-1):\n",
    "    e*=i\n",
    "print(e)\n",
    "\n"
   ]
  },
  {
   "cell_type": "code",
   "execution_count": 39,
   "id": "4e0235d8-5062-44be-81fe-cacf6e15a921",
   "metadata": {},
   "outputs": [
    {
     "data": {
      "text/plain": [
       "120"
      ]
     },
     "execution_count": 39,
     "metadata": {},
     "output_type": "execute_result"
    }
   ],
   "source": [
    "factorial of a number\n",
    "def fun(n):\n",
    "    if n==1:\n",
    "        return 1\n",
    "    return (n*fun(n-1))\n",
    "\n",
    "fun(5)"
   ]
  },
  {
   "cell_type": "code",
   "execution_count": 57,
   "id": "e87b4471-8bab-45c2-a024-a8079674b8e4",
   "metadata": {},
   "outputs": [
    {
     "name": "stdin",
     "output_type": "stream",
     "text": [
      " 7\n"
     ]
    },
    {
     "name": "stdout",
     "output_type": "stream",
     "text": [
      "0 1 1 2 3 5 8 "
     ]
    }
   ],
   "source": [
    "a=0\n",
    "n=int(input())\n",
    "b=1\n",
    "print(a,b,end=\" \")\n",
    "for i in range(0,n-2):\n",
    "    c=a+b\n",
    "    a=b\n",
    "    b=c\n",
    "    print(c,end=\" \")"
   ]
  },
  {
   "cell_type": "raw",
   "id": "31cba0a5-04e8-4f0c-ad7b-3519c1ce4fcc",
   "metadata": {},
   "source": [
    "\n",
    "                                 QuickSort\n",
    ">The key process in QuickSort is the partition() function.\n",
    "Given an array and a pivot element x, the goal is to put x at its correct position in a sorted array.\n",
    ">All smaller elements (less than x) should be placed before x, and all greater elements (greater than x) should come after x.\n",
    ">This partitioning step should be done in linear time.\n",
    "\n",
    "if pe>arr[i]:\n",
    "   j++\n",
    "   arr[i],a[j]=a[j],a[i]"
   ]
  },
  {
   "cell_type": "code",
   "execution_count": 3,
   "id": "994ac7ed-3eb0-4e76-ae59-c11306322e52",
   "metadata": {},
   "outputs": [
    {
     "name": "stdout",
     "output_type": "stream",
     "text": [
      "[2, 6, 4, 3, 1, 9, 8, 7]\n",
      "[2, 6, 4, 3, 1, 7, 8, 9]\n",
      "[1, 6, 4, 3, 2, 7, 8, 9]\n",
      "[1, 2, 4, 3, 6, 7, 8, 9]\n",
      "[1, 2, 4, 3, 6, 7, 8, 9]\n",
      "[1, 2, 3, 4, 6, 7, 8, 9]\n",
      "[1, 2, 3, 4, 6, 7, 8, 9]\n"
     ]
    }
   ],
   "source": [
    "def findpi(ar,low,high):\n",
    "    pe=ar[high]\n",
    "    j=low-1\n",
    "    for i in range(low,high):\n",
    "        if pe>ar[i]:\n",
    "            j+=1\n",
    "            ar[i],ar[j]=ar[j],ar[i]\n",
    "    ar[high],ar[j+1]=ar[j+1],ar[high]\n",
    "    return j+1\n",
    "\n",
    "def quicksort(ar,low,high):\n",
    "    if low<high:\n",
    "        print(ar)\n",
    "        pe=findpi(ar,low,high)\n",
    "        quicksort(ar,low,pe-1)\n",
    "        quicksort(ar,pe+1,high)\n",
    "ar=[2,6,4,3,1,9,8,7]\n",
    "quicksort(ar,0,len(ar)-1)\n",
    "print(ar)\n"
   ]
  },
  {
   "cell_type": "code",
   "execution_count": 4,
   "id": "83560209-aa5f-4121-baf4-e67b87ba5f5c",
   "metadata": {},
   "outputs": [
    {
     "name": "stdout",
     "output_type": "stream",
     "text": [
      "node 1 <__main__.node object at 0x00000219D35A6F00> ---> apple\n",
      "node 2 <__main__.node object at 0x00000219D355EA80> ---> book\n",
      "node 3 <__main__.node object at 0x00000219D355F260> ---> cat\n",
      "node 4 <__main__.node object at 0x00000219D35A46B0> ---> bird\n"
     ]
    }
   ],
   "source": [
    "#linked list\n",
    "class node:\n",
    "    def __init__(self,d):\n",
    "        self.data=d\n",
    "        self.next=None\n",
    "\n",
    "a=node(\"apple\")\n",
    "b=node(\"book\")\n",
    "c=node(\"cat\")\n",
    "d=node(\"bird\")\n",
    "\n",
    "head=a\n",
    "head.next=b\n",
    "head.next.next=c\n",
    "head.next.next.next=d\n",
    "\n",
    "print(\"node 1\",head,\"--->\",head.data)\n",
    "print(\"node 2\",head.next,\"--->\",head.next.data)\n",
    "print(\"node 3\",head.next.next,\"--->\",head.next.next.data)\n",
    "print(\"node 4\",head.next.next.next,\"--->\",head.next.next.next.data)"
   ]
  },
  {
   "cell_type": "code",
   "execution_count": 3,
   "id": "62a5edde-7f21-420f-9b35-3339862c7350",
   "metadata": {},
   "outputs": [
    {
     "name": "stdout",
     "output_type": "stream",
     "text": [
      "node 1 <__main__.node object at 0x00000219D35C4620> ---> 1\n",
      "node 2 <__main__.node object at 0x00000219D35A7290> ---> 2\n",
      "node 3 <__main__.node object at 0x00000219D35C4590> ---> 3\n",
      "node 4 <__main__.node object at 0x00000219D35C4890> ---> 4\n"
     ]
    }
   ],
   "source": [
    "class node:\n",
    "    def __init__(self,d):\n",
    "        self.data=d\n",
    "        self.next=None\n",
    "head=node(1)\n",
    "head.next=node(2)\n",
    "head.next.next=node(3)\n",
    "head.next.next.next=node(4)\n",
    "\n",
    "print(\"node 1\",head,\"--->\",head.data)\n",
    "print(\"node 2\",head.next,\"--->\",head.next.data)\n",
    "print(\"node 3\",head.next.next,\"--->\",head.next.next.data)\n",
    "print(\"node 4\",head.next.next.next,\"--->\",head.next.next.next.data)"
   ]
  },
  {
   "cell_type": "code",
   "execution_count": 5,
   "id": "5c293e40-8579-4536-a187-d2622221d5f1",
   "metadata": {},
   "outputs": [
    {
     "name": "stdout",
     "output_type": "stream",
     "text": [
      "node 1 <__main__.node object at 0x00000219D35A79B0> ---> samarth\n",
      "node 2 <__main__.node object at 0x00000219D35A6E10> ---> shankar\n",
      "node 3 <__main__.node object at 0x00000219D35A4500> ---> santuu\n"
     ]
    }
   ],
   "source": [
    "class node:\n",
    "    def __init__(self,d):\n",
    "        self.data=d\n",
    "        self.next=None\n",
    "\n",
    "head=node(\"samarth\")\n",
    "head.next=node(\"shankar\")\n",
    "head.next.next=node(\"santuu\")\n",
    "print(\"node 1\",head,\"--->\",head.data)\n",
    "print(\"node 2\",head.next,\"--->\",head.next.data)\n",
    "print(\"node 3\",head.next.next,\"--->\",head.next.next.data)"
   ]
  },
  {
   "cell_type": "code",
   "execution_count": null,
   "id": "a28139c1-c7bd-4d67-9f4f-3e945d1eb34d",
   "metadata": {},
   "outputs": [],
   "source": []
  },
  {
   "cell_type": "code",
   "execution_count": null,
   "id": "689211c8-df7f-4a99-957c-b2eee389dc42",
   "metadata": {},
   "outputs": [],
   "source": []
  }
 ],
 "metadata": {
  "kernelspec": {
   "display_name": "Python 3 (ipykernel)",
   "language": "python",
   "name": "python3"
  },
  "language_info": {
   "codemirror_mode": {
    "name": "ipython",
    "version": 3
   },
   "file_extension": ".py",
   "mimetype": "text/x-python",
   "name": "python",
   "nbconvert_exporter": "python",
   "pygments_lexer": "ipython3",
   "version": "3.12.3"
  }
 },
 "nbformat": 4,
 "nbformat_minor": 5
}
