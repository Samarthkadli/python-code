{
 "cells": [
  {
   "cell_type": "code",
   "execution_count": null,
   "id": "ba52a87d-ddb3-40c2-a169-259442d7ae59",
   "metadata": {},
   "outputs": [],
   "source": [
    "#constent time-o(1) ,liner-o(n),quadretic-o(n^2),exponential-o(n^m),factorial-o(n!)\n",
    "#optimal solution \n",
    "#space complexity const space ,linere space "
   ]
  },
  {
   "cell_type": "code",
   "execution_count": 34,
   "id": "1869c5d2-151a-4fa2-91ed-c372bcd88272",
   "metadata": {},
   "outputs": [
    {
     "name": "stdout",
     "output_type": "stream",
     "text": [
      "[12, 11, 10, 11, 14, 17, 19, 18, 18, 17, 17, 17, 13, 11, 8, 13, 18, 19, 15, 15, 19, 17, 18, 13, 16, 17]\n",
      "Max of sum all 3 elements 19\n"
     ]
    }
   ],
   "source": [
    "l=[2,4,6,1,3,7,4,6,9,3,6,8,3,6,4,1,3,9,6,4,5,6,8,3,7,3,6,8]\n",
    "a=[]\n",
    "Sum=0\n",
    "Max=0\n",
    "#find the maximum sum of any 3 consectutive element of the array\n",
    "for i in range(0,len(l)-2):\n",
    "    Sum=l[i]+l[i+1]+l[i+2]\n",
    "    a.append(Sum)\n",
    "   \n",
    "print(a)\n",
    "\n",
    "for i in a:\n",
    "    if a[i]>=Max:\n",
    "        Max=a[i]\n",
    "\n",
    "print(\"Max of sum all 3 elements\",Max)\n",
    "\n"
   ]
  },
  {
   "cell_type": "code",
   "execution_count": 49,
   "id": "587a35bb-67f5-4737-bea5-b91239a54ac1",
   "metadata": {},
   "outputs": [
    {
     "name": "stdin",
     "output_type": "stream",
     "text": [
      "enter the range  2\n",
      "enter the list elements 1\n",
      "enter the list elements 2\n",
      "enter the consic 1\n"
     ]
    },
    {
     "name": "stdout",
     "output_type": "stream",
     "text": [
      "1\n"
     ]
    }
   ],
   "source": [
    "l=[]\n",
    "n=int(input(\"enter the range \"))\n",
    "for i in range(0,n):\n",
    "    a=int(input(\"enter the list elements\"))\n",
    "    l.append(a)\n",
    "Sum=0\n",
    "Max=0\n",
    "e=int(input(\"enter the consic\"))\n",
    "#find the maximum sum of any 3 consectutive element of the array\n",
    "for i in range(0,len(l)-e):\n",
    "    Sum=0\n",
    "    for j in range(0,e):\n",
    "        Sum=Sum+l[i+j]\n",
    "        \n",
    "    if Max<Sum:\n",
    "        Max=Sum\n",
    "\n",
    "print(Max)\n",
    "\n"
   ]
  },
  {
   "cell_type": "code",
   "execution_count": 51,
   "id": "01c1d9f9-e8e5-4223-93b6-2a8c00ff183e",
   "metadata": {},
   "outputs": [
    {
     "name": "stdin",
     "output_type": "stream",
     "text": [
      "enter the consecutive numbers 3\n"
     ]
    },
    {
     "name": "stdout",
     "output_type": "stream",
     "text": [
      "19\n"
     ]
    }
   ],
   "source": [
    "l=[2,4,6,1,3,7,4,6,9,3,6,8,3,6,4,1,3,9,6,4,5,6,8,3,7,3,6,8]\n",
    "max=sum=0\n",
    "cons=int(input(\"enter the consecutive numbers\"))\n",
    "for i in range(0,cons):\n",
    "    sum=sum+l[i]\n",
    "\n",
    "for x in range(0,len(l)-cons-1):\n",
    "    if max<sum:\n",
    "        max=sum\n",
    "    sum=sum+l[x+cons]-l[x]\n",
    "\n",
    "print(max)"
   ]
  },
  {
   "cell_type": "code",
   "execution_count": 17,
   "id": "d18fc231-8221-4161-b1c4-5d590098be76",
   "metadata": {},
   "outputs": [
    {
     "name": "stdout",
     "output_type": "stream",
     "text": [
      "[1, 2, 3, 4, 5, 6, 7, 8, 9]\n"
     ]
    }
   ],
   "source": [
    "l=[3,5,2,6,7,4,8,1,9]\n",
    "for j in range(0,(len(l)-1)):\n",
    "    for i in range(0,(len(l)-1)):\n",
    "        if (l[i]>l[i+1]):\n",
    "            l[i],l[i+1]=l[i+1],l[i]\n",
    "    \n",
    "print(l)\n"
   ]
  },
  {
   "cell_type": "markdown",
   "id": "ab60f875-a56c-4c27-8ea2-b1edcff07ee0",
   "metadata": {},
   "source": [
    "selection sort \n",
    "    2,8,4,5,7,3,6,1,9\n",
    "    0 1 2 3 4 5 6 7 8\n",
    "ones minimum is swaped thn\n",
    "    1,8,4,5,7,3,6,2,9 thn\n",
    "    1,2,3,4,7,5,6,8,9"
   ]
  }
 ],
 "metadata": {
  "kernelspec": {
   "display_name": "Python 3 (ipykernel)",
   "language": "python",
   "name": "python3"
  },
  "language_info": {
   "codemirror_mode": {
    "name": "ipython",
    "version": 3
   },
   "file_extension": ".py",
   "mimetype": "text/x-python",
   "name": "python",
   "nbconvert_exporter": "python",
   "pygments_lexer": "ipython3",
   "version": "3.12.3"
  }
 },
 "nbformat": 4,
 "nbformat_minor": 5
}
